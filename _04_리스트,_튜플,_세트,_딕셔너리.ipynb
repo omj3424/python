{
  "nbformat": 4,
  "nbformat_minor": 0,
  "metadata": {
    "colab": {
      "provenance": [],
      "toc_visible": true,
      "include_colab_link": true
    },
    "kernelspec": {
      "name": "python3",
      "display_name": "Python 3"
    }
  },
  "cells": [
    {
      "cell_type": "markdown",
      "metadata": {
        "id": "view-in-github",
        "colab_type": "text"
      },
      "source": [
        "<a href=\"https://colab.research.google.com/github/omj3424/python/blob/main/_04_%EB%A6%AC%EC%8A%A4%ED%8A%B8%2C_%ED%8A%9C%ED%94%8C%2C_%EC%84%B8%ED%8A%B8%2C_%EB%94%95%EC%85%94%EB%84%88%EB%A6%AC.ipynb\" target=\"_parent\"><img src=\"https://colab.research.google.com/assets/colab-badge.svg\" alt=\"Open In Colab\"/></a>"
      ]
    },
    {
      "cell_type": "markdown",
      "metadata": {
        "id": "bg5ZXMV2sn1M"
      },
      "source": [
        "# 리스트, 튜플, 세트, 딕셔너리"
      ]
    },
    {
      "cell_type": "markdown",
      "metadata": {
        "id": "Lj_iZPKnCRP0"
      },
      "source": [
        "\n",
        "\n",
        "---\n",
        "\n"
      ]
    },
    {
      "cell_type": "markdown",
      "metadata": {
        "id": "aKsMBDZohTu4"
      },
      "source": [
        "## 리스트(List)\n",
        "\n",
        "\n",
        "*   변경 가능한 시퀀스 자료형\n",
        "*   하나의 변수에 여러 값 할당 가능\n",
        "*   같은 자료형이 아니라 다른 자료형을 가지는 값들을 포함 가능\n",
        "*   일반적으로 비슷한 항목들의 모음을 순서대로 저장하는데 사용\n",
        "\n",
        "\n",
        "\n",
        "\n"
      ]
    },
    {
      "cell_type": "code",
      "metadata": {
        "id": "qLh1E-1_hxR_",
        "outputId": "d913ec2f-1506-40e5-ff31-65c24b2d018c",
        "colab": {
          "base_uri": "https://localhost:8080/"
        }
      },
      "source": [
        "print([])\n",
        "print([1, 2, 3])\n",
        "print(['One', 'Two', 'Three'])\n",
        "print([1, 'One', 2, 'Two', 3, 'Three'])\n",
        "print([1, 2, 3, ['One', 'Two', 'Three']])"
      ],
      "execution_count": 5,
      "outputs": [
        {
          "output_type": "stream",
          "name": "stdout",
          "text": [
            "[]\n",
            "[1, 2, 3]\n",
            "['One', 'Two', 'Three']\n",
            "[1, 'One', 2, 'Two', 3, 'Three']\n",
            "[1, 2, 3, ['One', 'Two', 'Three']]\n"
          ]
        }
      ]
    },
    {
      "cell_type": "markdown",
      "metadata": {
        "id": "YApkWxX_Yo7K"
      },
      "source": [
        "### 리스트 인덱싱(List Indexing)\n",
        "\n",
        "* 리스트의 각 위치에 해당하는 값에 접근하기 위해서 주소 개념의 숫자를 사용"
      ]
    },
    {
      "cell_type": "code",
      "metadata": {
        "id": "DapQSgP4ZEM_",
        "outputId": "d652e480-2cad-40df-b00c-a8ef59c39298",
        "colab": {
          "base_uri": "https://localhost:8080/"
        }
      },
      "source": [
        "list = ['One', 'Two', 'Three']\n",
        "print(list)\n",
        "print(list[0])\n",
        "print(list[1])\n",
        "print(list[2])\n",
        "print(list[-1])\n",
        "print(list[-2])\n",
        "print(list[-3])"
      ],
      "execution_count": 7,
      "outputs": [
        {
          "output_type": "stream",
          "name": "stdout",
          "text": [
            "['One', 'Two', 'Three']\n",
            "One\n",
            "Two\n",
            "Three\n",
            "Three\n",
            "Two\n",
            "One\n"
          ]
        }
      ]
    },
    {
      "cell_type": "markdown",
      "metadata": {
        "id": "zudx4zfHdAvz"
      },
      "source": [
        "### 중첩 리스트 인덱싱(Nested List Indexing)\n",
        "\n",
        "* 리스트 안에 리스트가 있을 경우 인덱스 접근 방법"
      ]
    },
    {
      "cell_type": "code",
      "metadata": {
        "id": "4-AbAyBsdiu4",
        "outputId": "dc2b3f99-ef6e-4e2d-cf1f-a973dc7c6e27",
        "colab": {
          "base_uri": "https://localhost:8080/"
        }
      },
      "source": [
        "list = [1, 2, 3, ['One', 'Two', 'Three']]\n",
        "print(list)\n",
        "print(list[3])\n",
        "print(list[3][0])\n",
        "print(list[3][1])\n",
        "print(list[3][2])"
      ],
      "execution_count": 11,
      "outputs": [
        {
          "output_type": "stream",
          "name": "stdout",
          "text": [
            "[1, 2, 3, ['One', 'Two', 'Three']]\n",
            "['One', 'Two', 'Three']\n",
            "One\n",
            "Two\n",
            "Three\n"
          ]
        }
      ]
    },
    {
      "cell_type": "markdown",
      "metadata": {
        "id": "qYff3UXAd_gZ"
      },
      "source": [
        "### 리스트 슬라이싱(List Slicing)\n",
        "\n",
        "* 리스트의 인덱스를 통해서 부분만 가져올 때 사용"
      ]
    },
    {
      "cell_type": "code",
      "metadata": {
        "id": "XV6YtlM8eFZ7",
        "outputId": "d55cfaec-30b4-4fb4-84ff-d2e00caba06f",
        "colab": {
          "base_uri": "https://localhost:8080/"
        }
      },
      "source": [
        "list = ['One', 'Two', 'Three']\n",
        "print(list)\n",
        "print(list[0:])\n",
        "print(list[1:2])\n",
        "print(list[1:])"
      ],
      "execution_count": 15,
      "outputs": [
        {
          "output_type": "stream",
          "name": "stdout",
          "text": [
            "['One', 'Two', 'Three']\n",
            "['One', 'Two', 'Three']\n",
            "['Two']\n",
            "['Two', 'Three']\n"
          ]
        }
      ]
    },
    {
      "cell_type": "markdown",
      "metadata": {
        "id": "7BBUTCoWfRFY"
      },
      "source": [
        "### 중첩 리스트 슬라이싱(Nested List Slicing)\n",
        "\n",
        "* 중첩된 리스트에서 일부분만 인덱스를 통해서 가져올 때 사용"
      ]
    },
    {
      "cell_type": "code",
      "metadata": {
        "id": "KXqdQhpminGG",
        "outputId": "5db286ee-f2a6-4b62-dfbd-bb8eb84d2acb",
        "colab": {
          "base_uri": "https://localhost:8080/"
        }
      },
      "source": [
        "list = [1, 2, 3, ['One', 'Two', 'Three']]\n",
        "print(list)\n",
        "print(list[2:4])\n",
        "print(list[3][2:])\n",
        "print(list[3][:2])"
      ],
      "execution_count": 19,
      "outputs": [
        {
          "output_type": "stream",
          "name": "stdout",
          "text": [
            "[1, 2, 3, ['One', 'Two', 'Three']]\n",
            "[3, ['One', 'Two', 'Three']]\n",
            "['Three']\n",
            "['One', 'Two']\n"
          ]
        }
      ]
    },
    {
      "cell_type": "markdown",
      "metadata": {
        "id": "q_9BaaINjg2l"
      },
      "source": [
        "### 리스트 연산자/함수(List Operators/Function)\n",
        "\n",
        "* 더하기 + 연산자\n",
        "* 곱하기 * 연산자\n",
        "* 리스트 길이를 구하는 `len()` 함수"
      ]
    },
    {
      "cell_type": "code",
      "metadata": {
        "id": "iylo3yUBjpBW",
        "outputId": "6131cd7c-5559-405a-bc6d-3e53457ab82d",
        "colab": {
          "base_uri": "https://localhost:8080/"
        }
      },
      "source": [
        "list_1 = ['One', 'Two', 'Three']\n",
        "list_2 = ['Four', 'Five', 'Six']\n",
        "print(list_1)\n",
        "print(list_2)\n",
        "print(list_1 + list_2)\n",
        "print(list_1 * 3)\n",
        "print(len(list_1))\n",
        "print(len(list_1 * 3))"
      ],
      "execution_count": 23,
      "outputs": [
        {
          "output_type": "stream",
          "name": "stdout",
          "text": [
            "['One', 'Two', 'Three']\n",
            "['Four', 'Five', 'Six']\n",
            "['One', 'Two', 'Three', 'Four', 'Five', 'Six']\n",
            "['One', 'Two', 'Three', 'One', 'Two', 'Three', 'One', 'Two', 'Three']\n",
            "3\n",
            "9\n"
          ]
        }
      ]
    },
    {
      "cell_type": "markdown",
      "metadata": {
        "id": "XTQWWsI7j-g0"
      },
      "source": [
        "### 리스트 수정(List Modify)\n",
        "\n",
        "* 리스트 인덱스 주소를 이용한 값 수정"
      ]
    },
    {
      "cell_type": "code",
      "metadata": {
        "id": "ZAvCJXhPkDIN",
        "outputId": "9d15b858-1c30-4ae7-93bc-4d49a9864d35",
        "colab": {
          "base_uri": "https://localhost:8080/"
        }
      },
      "source": [
        "list = ['One', 'Two', 'Three']\n",
        "print(list)\n",
        "list[2] = 3\n",
        "print(list)\n",
        "list[1] = 2\n",
        "print(list)\n",
        "list[0] = 1\n",
        "print(list)"
      ],
      "execution_count": 27,
      "outputs": [
        {
          "output_type": "stream",
          "name": "stdout",
          "text": [
            "['One', 'Two', 'Three']\n",
            "['One', 'Two', 3]\n",
            "['One', 2, 3]\n",
            "[1, 2, 3]\n"
          ]
        }
      ]
    },
    {
      "cell_type": "markdown",
      "metadata": {
        "id": "OolpuGcLlHrs"
      },
      "source": [
        "### 리스트 메소드(List Methods)\n"
      ]
    },
    {
      "cell_type": "markdown",
      "metadata": {
        "id": "m5xHM2-jlQh3"
      },
      "source": [
        "#### append()\n",
        "\n",
        "* 리스트 요소 추가\n",
        "\n",
        ": 리스트의 마지막 부분에 추가해주는 기능\n",
        "\n",
        "똑같은 형식의 문자열만 추가할 수 있는게 아니라 리스트를 리스트에 추가할 수도 있음."
      ]
    },
    {
      "cell_type": "code",
      "metadata": {
        "id": "8AaEGUxSlU_a",
        "outputId": "52fef384-c6a8-4713-b8f2-2652dbe6cf10",
        "colab": {
          "base_uri": "https://localhost:8080/"
        }
      },
      "source": [
        "list = ['One', 'Two', 'Three']\n",
        "list.append('Four')\n",
        "print(list)\n",
        "list.append([1, 2, 3, 4])\n",
        "print(list)"
      ],
      "execution_count": 29,
      "outputs": [
        {
          "output_type": "stream",
          "name": "stdout",
          "text": [
            "['One', 'Two', 'Three', 'Four']\n",
            "['One', 'Two', 'Three', 'Four', [1, 2, 3, 4]]\n"
          ]
        }
      ]
    },
    {
      "cell_type": "markdown",
      "metadata": {
        "id": "sIkoHvkJmQjD"
      },
      "source": [
        "#### sort()\n",
        "\n",
        "* 리스트 정렬"
      ]
    },
    {
      "cell_type": "code",
      "metadata": {
        "id": "XxCsua37mU7R",
        "outputId": "b1be9616-a141-4020-d1de-63a479ac34ce",
        "colab": {
          "base_uri": "https://localhost:8080/"
        }
      },
      "source": [
        "list = [10, 40, 20, 30]\n",
        "print(list)\n",
        "list.sort()\n",
        "print(list)\n",
        "list = ['orange', 'apple', 'banana', 'strawberry']\n",
        "print(list)\n",
        "list.sort()\n",
        "print(list)"
      ],
      "execution_count": 33,
      "outputs": [
        {
          "output_type": "stream",
          "name": "stdout",
          "text": [
            "[10, 40, 20, 30]\n",
            "[10, 20, 30, 40]\n",
            "['orange', 'apple', 'banana', 'strawberry']\n",
            "['apple', 'banana', 'orange', 'strawberry']\n"
          ]
        }
      ]
    },
    {
      "cell_type": "markdown",
      "metadata": {
        "id": "YdfEfFUEmmBZ"
      },
      "source": [
        "#### reverse()\n",
        "\n",
        "* 리스트 요소 반전\n",
        "\n",
        "*reverse는 정렬이 아니고 인덱스의 순서를 반대로 해서 출력이 되는 것!"
      ]
    },
    {
      "cell_type": "code",
      "metadata": {
        "id": "gaqQQwm0mrAs",
        "outputId": "854c6456-b222-439b-c034-c34a21b9caa7",
        "colab": {
          "base_uri": "https://localhost:8080/"
        }
      },
      "source": [
        "list = ['orange', 'apple', 'banana', 'strawberry']\n",
        "print(list)\n",
        "list.reverse()\n",
        "print(list)"
      ],
      "execution_count": 35,
      "outputs": [
        {
          "output_type": "stream",
          "name": "stdout",
          "text": [
            "['orange', 'apple', 'banana', 'strawberry']\n",
            "['strawberry', 'banana', 'apple', 'orange']\n"
          ]
        }
      ]
    },
    {
      "cell_type": "markdown",
      "metadata": {
        "id": "B9GFsndRnwor"
      },
      "source": [
        "#### index()\n",
        "\n",
        "* 리스트의 요소 값에 대한 인덱스를 반환"
      ]
    },
    {
      "cell_type": "code",
      "metadata": {
        "id": "xs1Nlc_Hn1S3",
        "outputId": "7a64f7f3-3615-48be-e836-a4f43a4f6048",
        "colab": {
          "base_uri": "https://localhost:8080/"
        }
      },
      "source": [
        "list = [10, 40, 20, 30]\n",
        "print(list)\n",
        "print(list.index(10))\n",
        "print(list.index(20))"
      ],
      "execution_count": 38,
      "outputs": [
        {
          "output_type": "stream",
          "name": "stdout",
          "text": [
            "[10, 40, 20, 30]\n",
            "0\n",
            "2\n"
          ]
        }
      ]
    },
    {
      "cell_type": "markdown",
      "metadata": {
        "id": "nSuJKFcUn9UK"
      },
      "source": [
        "#### insert()\n",
        "\n",
        "* 리스트 요소 삽입\n",
        "\n",
        ": 내가 원하는 위치에 새로운 값을 추가할 수 있음.\n",
        "\n",
        "---\n",
        "*append와의 차이점\n",
        "\n",
        "appends는 리스트의 마지막에 추가할 수 있고, insert는 원하는 위치에 추가할 수 있음!"
      ]
    },
    {
      "cell_type": "code",
      "metadata": {
        "id": "3crOTMcLoAdE",
        "outputId": "21b0675b-3fb6-462d-cea7-46032299431b",
        "colab": {
          "base_uri": "https://localhost:8080/"
        }
      },
      "source": [
        "list = [10, 40, 20, 30]\n",
        "print(list)\n",
        "list.insert(4, 50)\n",
        "print(list)\n",
        "list.insert(0, 60)\n",
        "print(list)"
      ],
      "execution_count": 41,
      "outputs": [
        {
          "output_type": "stream",
          "name": "stdout",
          "text": [
            "[10, 40, 20, 30]\n",
            "[10, 40, 20, 30, 50]\n",
            "[60, 10, 40, 20, 30, 50]\n"
          ]
        }
      ]
    },
    {
      "cell_type": "markdown",
      "metadata": {
        "id": "u9_0Hh5NyXXh"
      },
      "source": [
        "#### remove()\n",
        "\n",
        "* 리스트 요소 제거"
      ]
    },
    {
      "cell_type": "code",
      "metadata": {
        "id": "55jgJF1ZyjIp",
        "outputId": "a555e09b-b2b7-45a2-f794-31d4d51f048d",
        "colab": {
          "base_uri": "https://localhost:8080/"
        }
      },
      "source": [
        "list = [10, 40, 20, 30]\n",
        "print(list)\n",
        "list.remove(40)\n",
        "print(list)\n",
        "list.remove(30)\n",
        "print(list)"
      ],
      "execution_count": 43,
      "outputs": [
        {
          "output_type": "stream",
          "name": "stdout",
          "text": [
            "[10, 40, 20, 30]\n",
            "[10, 20, 30]\n",
            "[10, 20]\n"
          ]
        }
      ]
    },
    {
      "cell_type": "markdown",
      "metadata": {
        "id": "XE2VEcqyywE4"
      },
      "source": [
        "#### del\n",
        "\n",
        "* 리스트 요소 제거 연산\n",
        "\n",
        ": 인덱스에 대한 위치값으로 삭제\n",
        "\n",
        "*삭제가 될수록 인덱스 위치값이 바뀌어서 주의해서 사용해야 함!"
      ]
    },
    {
      "cell_type": "code",
      "metadata": {
        "id": "AMDGcMSTy7RO",
        "outputId": "d4ec6d05-6dc8-403f-b497-d8cd12810105",
        "colab": {
          "base_uri": "https://localhost:8080/"
        }
      },
      "source": [
        "list = [10, 40, 20, 30]\n",
        "print(list)\n",
        "del list[0]\n",
        "print(list)\n",
        "del list[2]\n",
        "print(list)"
      ],
      "execution_count": 45,
      "outputs": [
        {
          "output_type": "stream",
          "name": "stdout",
          "text": [
            "[10, 40, 20, 30]\n",
            "[40, 20, 30]\n",
            "[40, 20]\n"
          ]
        }
      ]
    },
    {
      "cell_type": "markdown",
      "metadata": {
        "id": "0R1KumQ8zPqj"
      },
      "source": [
        "#### pop()\n",
        "\n",
        "* 리스트 요소를 방출\n",
        "\n",
        ": 끝에 있는 것을 방출시킴.\n",
        "\n",
        "원하는 값(인덱스 위치)을 방출시킬 수도 있음."
      ]
    },
    {
      "cell_type": "code",
      "metadata": {
        "id": "AES7G1e-za4k",
        "outputId": "23f8a073-f5bf-4da4-a815-91e8e2408d11",
        "colab": {
          "base_uri": "https://localhost:8080/"
        }
      },
      "source": [
        "list = [10, 40, 20, 30]\n",
        "print(list)\n",
        "list.pop()\n",
        "print(list)\n",
        "list.pop(0)\n",
        "print(list)"
      ],
      "execution_count": 47,
      "outputs": [
        {
          "output_type": "stream",
          "name": "stdout",
          "text": [
            "[10, 40, 20, 30]\n",
            "[10, 40, 20]\n",
            "[40, 20]\n"
          ]
        }
      ]
    },
    {
      "cell_type": "markdown",
      "metadata": {
        "id": "BnKMoBtrzkUP"
      },
      "source": [
        "#### count()\n",
        "\n",
        "* 리스트 요소의 갯수 계산"
      ]
    },
    {
      "cell_type": "code",
      "metadata": {
        "id": "iv13N4uWznsm",
        "outputId": "8542afe6-43b4-4da1-9dbc-7aa474a6137b",
        "colab": {
          "base_uri": "https://localhost:8080/"
        }
      },
      "source": [
        "list = [10, 20, 20, 30, 30, 30]\n",
        "print(list)\n",
        "print(list.count(30))\n",
        "print(list.count(20))"
      ],
      "execution_count": 51,
      "outputs": [
        {
          "output_type": "stream",
          "name": "stdout",
          "text": [
            "[10, 20, 20, 30, 30, 30]\n",
            "3\n",
            "2\n"
          ]
        }
      ]
    },
    {
      "cell_type": "markdown",
      "metadata": {
        "id": "sI87ApvJzxcM"
      },
      "source": [
        "#### extend()\n",
        "\n",
        "* 리스트 확장"
      ]
    },
    {
      "cell_type": "code",
      "metadata": {
        "id": "0q944_Znz0XJ",
        "outputId": "0c07c0d7-6f79-4c55-b846-edca71a8680c",
        "colab": {
          "base_uri": "https://localhost:8080/"
        }
      },
      "source": [
        "list = [10, 40, 20, 30]\n",
        "print(list)\n",
        "list.extend([50, 60])\n",
        "print(list)"
      ],
      "execution_count": 52,
      "outputs": [
        {
          "output_type": "stream",
          "name": "stdout",
          "text": [
            "[10, 40, 20, 30]\n",
            "[10, 40, 20, 30, 50, 60]\n"
          ]
        }
      ]
    },
    {
      "cell_type": "markdown",
      "metadata": {
        "id": "PzXHy8FxoW5l"
      },
      "source": [
        "\n",
        "\n",
        "---\n",
        "\n"
      ]
    },
    {
      "cell_type": "markdown",
      "metadata": {
        "id": "d38eO6_roX5E"
      },
      "source": [
        "## 튜플(Tuple)\n",
        "\n",
        "* 리스트와 유사하지만 변경 불가능한 시퀀스 자료형\n",
        "* 하나의 변수에 여러 값 할당 가능\n",
        "* ‘(‘와 ‘)’를 사용하여 표현"
      ]
    },
    {
      "cell_type": "code",
      "metadata": {
        "id": "1s9_Z7hQ0Ft0",
        "outputId": "bef949d6-cc98-44b3-e4d3-8e4538f12231",
        "colab": {
          "base_uri": "https://localhost:8080/"
        }
      },
      "source": [
        "print(())\n",
        "print((1, 2, 3))\n",
        "print(('One', 'Two', 'Three'))\n",
        "print((1, 'One', 2, 'Two', 3, 'Three'))\n",
        "print((1, 2, 3,('One', 'Two', 'Three')))"
      ],
      "execution_count": 57,
      "outputs": [
        {
          "output_type": "stream",
          "name": "stdout",
          "text": [
            "()\n",
            "(1, 2, 3)\n",
            "('One', 'Two', 'Three')\n",
            "(1, 'One', 2, 'Two', 3, 'Three')\n",
            "(1, 2, 3, ('One', 'Two', 'Three'))\n"
          ]
        }
      ]
    },
    {
      "cell_type": "markdown",
      "metadata": {
        "id": "e3TE7eO00UKJ"
      },
      "source": [
        "### 튜플 인덱싱(Tuple Indexing)\n",
        "\n",
        "* 튜플의 각 위치에 해당하는 값에 접근하기 위해서 주소 개념의 숫자를 사용"
      ]
    },
    {
      "cell_type": "code",
      "metadata": {
        "id": "_usfNdhc0a_7",
        "outputId": "b49ff145-d61c-488a-99e3-01fc592a26bd",
        "colab": {
          "base_uri": "https://localhost:8080/"
        }
      },
      "source": [
        "tuple = ('One', 'Two', 'Three')\n",
        "print(tuple)\n",
        "print(tuple[0])\n",
        "print(tuple[-1])"
      ],
      "execution_count": 59,
      "outputs": [
        {
          "output_type": "stream",
          "name": "stdout",
          "text": [
            "('One', 'Two', 'Three')\n",
            "One\n",
            "Three\n"
          ]
        }
      ]
    },
    {
      "cell_type": "markdown",
      "metadata": {
        "id": "bFGXVZ8-05z2"
      },
      "source": [
        "### 중첩 튜플 인덱싱(Nested Tuple Indexing)\n",
        "\n",
        "* 튜플 안에 튜플이 중첩되어 있을 경우, 인덱스 접근 방법"
      ]
    },
    {
      "cell_type": "code",
      "metadata": {
        "id": "eq996H91097z",
        "outputId": "6cb751bd-5abb-4d21-aeb9-7af391686af1",
        "colab": {
          "base_uri": "https://localhost:8080/"
        }
      },
      "source": [
        "tuple = (1, 2, 3, ('One', 'Two', 'Three'))\n",
        "print(tuple)\n",
        "print(tuple[3])\n",
        "print(tuple[3][1])"
      ],
      "execution_count": 62,
      "outputs": [
        {
          "output_type": "stream",
          "name": "stdout",
          "text": [
            "(1, 2, 3, ('One', 'Two', 'Three'))\n",
            "('One', 'Two', 'Three')\n",
            "Two\n"
          ]
        }
      ]
    },
    {
      "cell_type": "markdown",
      "metadata": {
        "id": "nYYF6L223714"
      },
      "source": [
        "### 튜플 슬라이싱(Tuple Slicing)\n",
        "\n",
        "* 튜플의 인덱스를 통해서 부분만 가져올 때 사용"
      ]
    },
    {
      "cell_type": "code",
      "metadata": {
        "id": "J0lgz4SR67d8",
        "outputId": "4ec65207-cdf5-43c0-8b97-ba134a53c01f",
        "colab": {
          "base_uri": "https://localhost:8080/"
        }
      },
      "source": [
        "tuple = ('One', 'Two', 'Three')\n",
        "print(tuple)\n",
        "print(tuple[0:])\n",
        "print(tuple[1:2])\n",
        "print(tuple[1:])"
      ],
      "execution_count": 67,
      "outputs": [
        {
          "output_type": "stream",
          "name": "stdout",
          "text": [
            "('One', 'Two', 'Three')\n",
            "('One', 'Two', 'Three')\n",
            "('Two',)\n",
            "('Two', 'Three')\n"
          ]
        }
      ]
    },
    {
      "cell_type": "markdown",
      "metadata": {
        "id": "ddlDZ-iH7JI0"
      },
      "source": [
        "### 중첩 튜플 슬라이싱(Nested Tuple Slicing)\n",
        "\n",
        "* 중첩된 튜플에서 일부분만 인덱스를 통해서 가져올 때 사용"
      ]
    },
    {
      "cell_type": "code",
      "metadata": {
        "id": "2GeXCqV37Nc3",
        "outputId": "fa0cea28-93a6-4cca-9d92-ca598cb1b07f",
        "colab": {
          "base_uri": "https://localhost:8080/"
        }
      },
      "source": [
        "tuple = (1, 2, 3, ('One', 'Two', 'Three'))\n",
        "print(tuple)\n",
        "print(tuple[3])\n",
        "print(tuple[3][2:])\n",
        "print(tuple[3][:2])"
      ],
      "execution_count": 71,
      "outputs": [
        {
          "output_type": "stream",
          "name": "stdout",
          "text": [
            "(1, 2, 3, ('One', 'Two', 'Three'))\n",
            "('One', 'Two', 'Three')\n",
            "('Three',)\n",
            "('One', 'Two')\n"
          ]
        }
      ]
    },
    {
      "cell_type": "markdown",
      "metadata": {
        "id": "V7H6n4Ps7u5M"
      },
      "source": [
        "### 튜플 연산자/함수(Tuple Operators/Function)\n",
        "\n",
        "* 더하기 + 연산\n",
        "* 곱하기 * 연산\n",
        "* 튜플 길이를 구하는 `len()` 함수\n",
        "\n"
      ]
    },
    {
      "cell_type": "code",
      "metadata": {
        "id": "QJstv3_T9LiY",
        "outputId": "4d262900-c461-4816-cc95-95910dd4427a",
        "colab": {
          "base_uri": "https://localhost:8080/"
        }
      },
      "source": [
        "tuple_1 = ('One', 'Two', 'Three')\n",
        "tuple_2 = ('Four', 'Five', 'Six')\n",
        "print(tuple_1)\n",
        "print(tuple_2)\n",
        "print(tuple_1 + tuple_2)\n",
        "print(tuple_1 * 3)\n",
        "print(len(tuple_1))\n",
        "print(len(tuple_1 + tuple_2))"
      ],
      "execution_count": 74,
      "outputs": [
        {
          "output_type": "stream",
          "name": "stdout",
          "text": [
            "('One', 'Two', 'Three')\n",
            "('Four', 'Five', 'Six')\n",
            "('One', 'Two', 'Three', 'Four', 'Five', 'Six')\n",
            "('One', 'Two', 'Three', 'One', 'Two', 'Three', 'One', 'Two', 'Three')\n",
            "3\n",
            "6\n"
          ]
        }
      ]
    },
    {
      "cell_type": "markdown",
      "metadata": {
        "id": "-drrAXi3xY3y"
      },
      "source": [
        "\n",
        "\n",
        "---\n",
        "\n"
      ]
    },
    {
      "cell_type": "markdown",
      "metadata": {
        "id": "zXbENjlMCrkU"
      },
      "source": [
        "## 세트(Set)\n",
        "\n",
        "* 데이터 중복을 허용하지 않는 구조\n",
        "* 순서가 없는 데이터 집합을 위한 구조\n",
        "* 인덱싱으로 값을 접근할 수 없음"
      ]
    },
    {
      "cell_type": "code",
      "metadata": {
        "id": "Rqyuh9dNC_FZ",
        "outputId": "160c0b66-cf56-4c67-fb84-8622a4078f41",
        "colab": {
          "base_uri": "https://localhost:8080/"
        }
      },
      "source": [
        "print({})\n",
        "print({'One', 'Two', 'Three'})\n",
        "print({10, 20, 30, 40})"
      ],
      "execution_count": 77,
      "outputs": [
        {
          "output_type": "stream",
          "name": "stdout",
          "text": [
            "{}\n",
            "{'Three', 'Two', 'One'}\n",
            "{40, 10, 20, 30}\n"
          ]
        }
      ]
    },
    {
      "cell_type": "markdown",
      "metadata": {
        "id": "QerabWfwCvtt"
      },
      "source": [
        "### 세트 연산자(Set Operators)\n",
        "\n",
        "* 교집합: &\n",
        "* 합집합: |\n",
        "* 차집합: -\n",
        "* 여집합: ^"
      ]
    },
    {
      "cell_type": "code",
      "metadata": {
        "id": "22ALZ21LE60j",
        "outputId": "058709ce-7a88-4acd-e47b-32994b9c67b3",
        "colab": {
          "base_uri": "https://localhost:8080/"
        }
      },
      "source": [
        "set_1 = {10, 20, 20, 30}\n",
        "set_2 = {30, 30, 40, 50}\n",
        "print(set_1)\n",
        "print(set_2)\n",
        "print(set_1 & set_2)\n",
        "print(set_1 | set_2)\n",
        "print(set_1 - set_2)\n",
        "print(set_1 ^ set_2)"
      ],
      "execution_count": 82,
      "outputs": [
        {
          "output_type": "stream",
          "name": "stdout",
          "text": [
            "{10, 20, 30}\n",
            "{40, 50, 30}\n",
            "{30}\n",
            "{50, 20, 40, 10, 30}\n",
            "{10, 20}\n",
            "{40, 10, 50, 20}\n"
          ]
        }
      ]
    },
    {
      "cell_type": "markdown",
      "metadata": {
        "id": "of4Jq8l-McX7"
      },
      "source": [
        "### 세트 메소드(Set Methods)\n",
        "\n",
        "* 교집합: intersection()\n",
        "* 합집합: union()\n",
        "* 차집합: difference()\n",
        "* 여집합: symmetric_difference()"
      ]
    },
    {
      "cell_type": "code",
      "metadata": {
        "id": "w4JB__zpL_BW",
        "outputId": "979996a6-0223-49af-f9a0-e902b24dbbe4",
        "colab": {
          "base_uri": "https://localhost:8080/"
        }
      },
      "source": [
        "set_1 = {10, 20, 20, 30}\n",
        "set_2 = {30, 30, 40, 50}\n",
        "print(set_1)\n",
        "print(set_2)\n",
        "print(set_1.intersection(set_2))\n",
        "print(set_1.union(set_2))\n",
        "print(set_1.difference(set_2))\n",
        "print(set_1.symmetric_difference(set_2))"
      ],
      "execution_count": 86,
      "outputs": [
        {
          "output_type": "stream",
          "name": "stdout",
          "text": [
            "{10, 20, 30}\n",
            "{40, 50, 30}\n",
            "{30}\n",
            "{50, 20, 40, 10, 30}\n",
            "{10, 20}\n",
            "{40, 10, 50, 20}\n"
          ]
        }
      ]
    },
    {
      "cell_type": "markdown",
      "metadata": {
        "id": "lcdJvb_vFiKf"
      },
      "source": [
        "* 요소 추가: add()\n",
        "* 여러 요소 추가: update()\n",
        "* 요소 제거: remove()\n",
        "* 요소 제거: discard()\n",
        "* 모든 요소 제거: clear()"
      ]
    },
    {
      "cell_type": "code",
      "metadata": {
        "id": "xlo8NoTeF0dV",
        "outputId": "ad10d65b-a563-4d9b-f760-db7bc4f7bb0c",
        "colab": {
          "base_uri": "https://localhost:8080/"
        }
      },
      "source": [
        "set = {10, 20, 30, 40}\n",
        "print(set)\n",
        "\n",
        "set.add(50)\n",
        "print(set)\n",
        "\n",
        "set.update([60, 70])\n",
        "print(set)\n",
        "\n",
        "set.remove(70)\n",
        "set.remove(60)\n",
        "print(set)\n",
        "\n",
        "set.discard(30)\n",
        "print(set)\n",
        "\n",
        "set.clear()\n",
        "print(set)"
      ],
      "execution_count": 92,
      "outputs": [
        {
          "output_type": "stream",
          "name": "stdout",
          "text": [
            "{40, 10, 20, 30}\n",
            "{40, 10, 50, 20, 30}\n",
            "{70, 40, 10, 50, 20, 60, 30}\n",
            "{40, 10, 50, 20, 30}\n",
            "{40, 10, 50, 20}\n",
            "set()\n"
          ]
        }
      ]
    },
    {
      "cell_type": "markdown",
      "metadata": {
        "id": "0BWIlqrPCr__"
      },
      "source": [
        "\n",
        "\n",
        "\n",
        "---\n",
        "\n"
      ]
    },
    {
      "cell_type": "markdown",
      "metadata": {
        "id": "ZfKg8LniN113"
      },
      "source": [
        "## 딕셔너리(Dictionary)\n",
        "\n",
        "* 키(key)와 값(value)의 쌍으로 구성된 데이터\n",
        "* 순서가 없는 데이터\n",
        "* 키를 통해 값을 얻음\n",
        "* 동일한 키가 있을경우 덮어씀"
      ]
    },
    {
      "cell_type": "code",
      "metadata": {
        "id": "Ij33VNSGN7_D",
        "outputId": "ccd68ec9-fcb9-45d9-85b4-f6433acb7057",
        "colab": {
          "base_uri": "https://localhost:8080/"
        }
      },
      "source": [
        "dic = {1:'One', 2:'Two', 3:'Three'}\n",
        "print(dic)\n",
        "\n",
        "dic = {1:'One', 2:'Two', 3:'Three', 1:'One', 2:'Two', 3:'Three'}\n",
        "print(dic)"
      ],
      "execution_count": 94,
      "outputs": [
        {
          "output_type": "stream",
          "name": "stdout",
          "text": [
            "{1: 'One', 2: 'Two', 3: 'Three'}\n",
            "{1: 'One', 2: 'Two', 3: 'Three'}\n"
          ]
        }
      ]
    },
    {
      "cell_type": "markdown",
      "metadata": {
        "id": "Vq8tORypPmPX"
      },
      "source": [
        "### 딕셔너리 요소 추가/삭제\n",
        "\n",
        "* 딕셔너리의 해당 키 값에 값을 추가하여 요소 추가\n",
        "* del을 이용하여 요소 제거"
      ]
    },
    {
      "cell_type": "code",
      "metadata": {
        "id": "zjBqbHUhPjUX",
        "outputId": "2ab70b23-470d-4d0d-a2ad-bc60715fa174",
        "colab": {
          "base_uri": "https://localhost:8080/"
        }
      },
      "source": [
        "dic = {1:'One', 2:'Two', 3:'Three'}\n",
        "print(dic)\n",
        "print(dic[2])\n",
        "dic[4] = 'Four'\n",
        "print(dic)\n",
        "dic[5] = 'Five'\n",
        "print(dic)\n",
        "del dic[4]\n",
        "print(dic)"
      ],
      "execution_count": 98,
      "outputs": [
        {
          "output_type": "stream",
          "name": "stdout",
          "text": [
            "{1: 'One', 2: 'Two', 3: 'Three'}\n",
            "Two\n",
            "{1: 'One', 2: 'Two', 3: 'Three', 4: 'Four'}\n",
            "{1: 'One', 2: 'Two', 3: 'Three', 4: 'Four', 5: 'Five'}\n",
            "{1: 'One', 2: 'Two', 3: 'Three', 5: 'Five'}\n"
          ]
        }
      ]
    },
    {
      "cell_type": "markdown",
      "metadata": {
        "id": "SlUKOt2tSatr"
      },
      "source": [
        "### 딕셔너리 메소드(Dictionary Methods)\n"
      ]
    },
    {
      "cell_type": "code",
      "metadata": {
        "id": "JjF0-2zFP4vN",
        "outputId": "7618edc3-f4be-4731-cffd-08b35dd4e602",
        "colab": {
          "base_uri": "https://localhost:8080/"
        }
      },
      "source": [
        "dic = {1:'One', 2:'Two', 3:'Three'}\n",
        "print(dic)\n",
        "print(dic.keys())\n",
        "print(dic.values())\n",
        "print(dic.items())\n",
        "print(dic.get(2))\n",
        "print(dic.pop(3))\n",
        "print(dic)\n",
        "dic.clear()\n",
        "print(dic)"
      ],
      "execution_count": 105,
      "outputs": [
        {
          "output_type": "stream",
          "name": "stdout",
          "text": [
            "{1: 'One', 2: 'Two', 3: 'Three'}\n",
            "dict_keys([1, 2, 3])\n",
            "dict_values(['One', 'Two', 'Three'])\n",
            "dict_items([(1, 'One'), (2, 'Two'), (3, 'Three')])\n",
            "Two\n",
            "Three\n",
            "{1: 'One', 2: 'Two'}\n",
            "{}\n"
          ]
        }
      ]
    }
  ]
}