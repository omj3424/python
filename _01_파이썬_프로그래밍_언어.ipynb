{
  "nbformat": 4,
  "nbformat_minor": 0,
  "metadata": {
    "colab": {
      "provenance": [],
      "toc_visible": true,
      "include_colab_link": true
    },
    "kernelspec": {
      "name": "python3",
      "display_name": "Python 3"
    }
  },
  "cells": [
    {
      "cell_type": "markdown",
      "metadata": {
        "id": "view-in-github",
        "colab_type": "text"
      },
      "source": [
        "<a href=\"https://colab.research.google.com/github/omj3424/python/blob/main/_01_%ED%8C%8C%EC%9D%B4%EC%8D%AC_%ED%94%84%EB%A1%9C%EA%B7%B8%EB%9E%98%EB%B0%8D_%EC%96%B8%EC%96%B4.ipynb\" target=\"_parent\"><img src=\"https://colab.research.google.com/assets/colab-badge.svg\" alt=\"Open In Colab\"/></a>"
      ]
    },
    {
      "cell_type": "markdown",
      "metadata": {
        "id": "bg5ZXMV2sn1M"
      },
      "source": [
        "# 파이썬 프로그래밍 언어(Python Programming Language)"
      ]
    },
    {
      "cell_type": "markdown",
      "metadata": {
        "id": "Lj_iZPKnCRP0"
      },
      "source": [
        "\n",
        "\n",
        "---\n",
        "\n"
      ]
    },
    {
      "cell_type": "markdown",
      "metadata": {
        "id": "qHumj4Amv_r0"
      },
      "source": [
        "## 파이썬 시작하기\n",
        "\n",
        "* 프로그래밍 언어를 배울 때 보통 가장 먼저 하는 것은 인사\n",
        "* 가장 기본이 되는 화면 출력 함수인 `print()`를 이용해서 문자열 \"Hello Python\"을 출력"
      ]
    },
    {
      "cell_type": "code",
      "metadata": {
        "id": "wGQsH_uNlSbS",
        "outputId": "9cc65ed8-7b65-40e8-9815-72bc3c4c3450",
        "colab": {
          "base_uri": "https://localhost:8080/"
        }
      },
      "source": [
        "print(\"Hello Python\")"
      ],
      "execution_count": 1,
      "outputs": [
        {
          "output_type": "stream",
          "name": "stdout",
          "text": [
            "Hello Python\n"
          ]
        }
      ]
    },
    {
      "cell_type": "markdown",
      "metadata": {
        "id": "6LUMthH9Lf9Z"
      },
      "source": [
        "## 파이썬으로 계산하기"
      ]
    },
    {
      "cell_type": "markdown",
      "metadata": {
        "id": "zImoFsf6T4U9"
      },
      "source": [
        "### 사칙연산\n",
        "\n",
        "* 파이썬에서는 기본적인 산술 연산을 바로 수행 가능\n",
        "* 더하기, 빼기, 곱하기, 나누기 같은 간단한 산술연산 예제"
      ]
    },
    {
      "cell_type": "code",
      "metadata": {
        "id": "VaRaodRLF6N_",
        "outputId": "aca8879f-0ed9-4795-c563-09cb46853ebc",
        "colab": {
          "base_uri": "https://localhost:8080/"
        }
      },
      "source": [
        "1 + 1"
      ],
      "execution_count": 2,
      "outputs": [
        {
          "output_type": "execute_result",
          "data": {
            "text/plain": [
              "2"
            ]
          },
          "metadata": {},
          "execution_count": 2
        }
      ]
    },
    {
      "cell_type": "code",
      "metadata": {
        "id": "zpBz_0y9H_7I",
        "outputId": "18d84bf9-50a0-4d3d-f232-7f7e74100af0",
        "colab": {
          "base_uri": "https://localhost:8080/"
        }
      },
      "source": [
        "5 - 1"
      ],
      "execution_count": 3,
      "outputs": [
        {
          "output_type": "execute_result",
          "data": {
            "text/plain": [
              "4"
            ]
          },
          "metadata": {},
          "execution_count": 3
        }
      ]
    },
    {
      "cell_type": "code",
      "metadata": {
        "id": "PLTZwXWFHPmv",
        "outputId": "a4f3db31-629d-47af-c1c3-94f5a1a7139b",
        "colab": {
          "base_uri": "https://localhost:8080/"
        }
      },
      "source": [
        "4 * 3"
      ],
      "execution_count": 4,
      "outputs": [
        {
          "output_type": "execute_result",
          "data": {
            "text/plain": [
              "12"
            ]
          },
          "metadata": {},
          "execution_count": 4
        }
      ]
    },
    {
      "cell_type": "code",
      "metadata": {
        "id": "8BFrh9HmHVkz",
        "outputId": "bc0a759b-21ca-4e40-fc46-fa08fb969a48",
        "colab": {
          "base_uri": "https://localhost:8080/"
        }
      },
      "source": [
        "3 / 5"
      ],
      "execution_count": 5,
      "outputs": [
        {
          "output_type": "execute_result",
          "data": {
            "text/plain": [
              "0.6"
            ]
          },
          "metadata": {},
          "execution_count": 5
        }
      ]
    },
    {
      "cell_type": "markdown",
      "metadata": {
        "id": "G3WJblW4KKLh"
      },
      "source": [
        "### 실수 사칙연산\n",
        "\n",
        "* 실수에 대해서도 사칙연산 가능"
      ]
    },
    {
      "cell_type": "code",
      "metadata": {
        "id": "SUWi_GcFKSH5",
        "outputId": "28d02188-6891-46bd-fb1e-fa4297763d3b",
        "colab": {
          "base_uri": "https://localhost:8080/"
        }
      },
      "source": [
        "1.1 + 2.4"
      ],
      "execution_count": 6,
      "outputs": [
        {
          "output_type": "execute_result",
          "data": {
            "text/plain": [
              "3.5"
            ]
          },
          "metadata": {},
          "execution_count": 6
        }
      ]
    },
    {
      "cell_type": "code",
      "metadata": {
        "id": "CqBZeD9oKU72",
        "outputId": "7c68e346-bc5b-4f0b-dfb7-809091fb3286",
        "colab": {
          "base_uri": "https://localhost:8080/"
        }
      },
      "source": [
        "4.2 - 1.2"
      ],
      "execution_count": 7,
      "outputs": [
        {
          "output_type": "execute_result",
          "data": {
            "text/plain": [
              "3.0"
            ]
          },
          "metadata": {},
          "execution_count": 7
        }
      ]
    },
    {
      "cell_type": "code",
      "metadata": {
        "id": "s1xyEhRJKXZL",
        "outputId": "c06cf8eb-0cb9-4f20-cf4e-992d75d2a291",
        "colab": {
          "base_uri": "https://localhost:8080/"
        }
      },
      "source": [
        "1.2 * 2.2"
      ],
      "execution_count": 8,
      "outputs": [
        {
          "output_type": "execute_result",
          "data": {
            "text/plain": [
              "2.64"
            ]
          },
          "metadata": {},
          "execution_count": 8
        }
      ]
    },
    {
      "cell_type": "code",
      "metadata": {
        "id": "XKz3Ahc6KZwu",
        "outputId": "5ae649bc-8b12-4fcf-bfe9-6cab2f6a8d2f",
        "colab": {
          "base_uri": "https://localhost:8080/"
        }
      },
      "source": [
        "5.4 / 2.7"
      ],
      "execution_count": 9,
      "outputs": [
        {
          "output_type": "execute_result",
          "data": {
            "text/plain": [
              "2.0"
            ]
          },
          "metadata": {},
          "execution_count": 9
        }
      ]
    },
    {
      "cell_type": "markdown",
      "metadata": {
        "id": "2g1kd0ReKnvh"
      },
      "source": [
        "### 복잡한 연산\n",
        "\n",
        "* 여러 산술연산들이 포함된 복잡한 연산들도 가능"
      ]
    },
    {
      "cell_type": "code",
      "metadata": {
        "id": "06Tq0A94KvqH",
        "outputId": "083e8044-49ad-45f5-a76e-49635f2fb3f9",
        "colab": {
          "base_uri": "https://localhost:8080/"
        }
      },
      "source": [
        "1 + 2 + 3 / 3 * 2"
      ],
      "execution_count": 10,
      "outputs": [
        {
          "output_type": "execute_result",
          "data": {
            "text/plain": [
              "5.0"
            ]
          },
          "metadata": {},
          "execution_count": 10
        }
      ]
    },
    {
      "cell_type": "code",
      "metadata": {
        "id": "zODjpBPxKyKy",
        "outputId": "633c0cb7-eaa7-4531-aca8-d8de1a250e1a",
        "colab": {
          "base_uri": "https://localhost:8080/"
        }
      },
      "source": [
        "4 / 2 * 2 - 10 / 4"
      ],
      "execution_count": 11,
      "outputs": [
        {
          "output_type": "execute_result",
          "data": {
            "text/plain": [
              "1.5"
            ]
          },
          "metadata": {},
          "execution_count": 11
        }
      ]
    },
    {
      "cell_type": "code",
      "metadata": {
        "id": "yCDpG51AK6Vm",
        "outputId": "861c0674-24e9-41eb-d75c-ffeac353a532",
        "colab": {
          "base_uri": "https://localhost:8080/"
        }
      },
      "source": [
        "(10 - 2 * 4) / (1 + 2) * (10 - 4)"
      ],
      "execution_count": 12,
      "outputs": [
        {
          "output_type": "execute_result",
          "data": {
            "text/plain": [
              "4.0"
            ]
          },
          "metadata": {},
          "execution_count": 12
        }
      ]
    },
    {
      "cell_type": "markdown",
      "metadata": {
        "id": "dI2C7NDyQ_Uq"
      },
      "source": [
        "\n",
        "\n",
        "---\n",
        "\n"
      ]
    },
    {
      "cell_type": "markdown",
      "metadata": {
        "id": "FiUzzSZOVuIK"
      },
      "source": [
        "## 파이썬 문법(Python Syntax)\n"
      ]
    },
    {
      "cell_type": "markdown",
      "metadata": {
        "id": "Ia0eyXfzV5b7"
      },
      "source": [
        "### 들여쓰기(Indentation)\n",
        "\n",
        "* 코드 라인의 시작 부분에 들여쓰기\n",
        "* 파이썬은 들여쓰기로 코드의 블록을 표시"
      ]
    },
    {
      "cell_type": "code",
      "metadata": {
        "id": "jDZmAkxVV32c",
        "outputId": "011c040a-4d18-4ecc-b61d-96b026cce0f2",
        "colab": {
          "base_uri": "https://localhost:8080/"
        }
      },
      "source": [
        "if 2 > 1:\n",
        "  print(2)"
      ],
      "execution_count": 13,
      "outputs": [
        {
          "output_type": "stream",
          "name": "stdout",
          "text": [
            "2\n"
          ]
        }
      ]
    },
    {
      "cell_type": "code",
      "metadata": {
        "id": "Hffc6CB4b8F6",
        "outputId": "f9030c56-d4cf-4a02-a69e-a85df3ab6f3e",
        "colab": {
          "base_uri": "https://localhost:8080/"
        }
      },
      "source": [
        "if 2 > 1:\n",
        "  print(2)"
      ],
      "execution_count": 15,
      "outputs": [
        {
          "output_type": "stream",
          "name": "stdout",
          "text": [
            "2\n"
          ]
        }
      ]
    },
    {
      "cell_type": "markdown",
      "metadata": {
        "id": "XmkeU7cUWy2A"
      },
      "source": [
        "### 주석(Comments)\n",
        "\n",
        "* 코드에 대해 설명하는데 사용하고 가독성 증가\n",
        "* 일부 코드를 주석처리하여 실행 방지 가능"
      ]
    },
    {
      "cell_type": "code",
      "metadata": {
        "id": "qw9MLmHrW16P",
        "outputId": "4232242d-f449-4c18-8559-b6fdff55b2a6",
        "colab": {
          "base_uri": "https://localhost:8080/"
        }
      },
      "source": [
        "# 주석 부분\n",
        "print(\"주석문\") # 출력\n",
        "#print(\"Comment\")"
      ],
      "execution_count": 17,
      "outputs": [
        {
          "output_type": "stream",
          "name": "stdout",
          "text": [
            "주석문\n"
          ]
        }
      ]
    },
    {
      "cell_type": "code",
      "metadata": {
        "id": "epiqAD2rSWyn"
      },
      "source": [
        "%%timeit\n",
        "print(\"Hello World!\")"
      ],
      "execution_count": null,
      "outputs": []
    },
    {
      "cell_type": "code",
      "metadata": {
        "id": "Gt6TbP18126e"
      },
      "source": [],
      "execution_count": null,
      "outputs": []
    }
  ]
}