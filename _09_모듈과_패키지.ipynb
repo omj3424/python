{
  "nbformat": 4,
  "nbformat_minor": 0,
  "metadata": {
    "colab": {
      "provenance": [],
      "toc_visible": true,
      "include_colab_link": true
    },
    "kernelspec": {
      "name": "python3",
      "display_name": "Python 3"
    }
  },
  "cells": [
    {
      "cell_type": "markdown",
      "metadata": {
        "id": "view-in-github",
        "colab_type": "text"
      },
      "source": [
        "<a href=\"https://colab.research.google.com/github/omj3424/python/blob/main/_09_%EB%AA%A8%EB%93%88%EA%B3%BC_%ED%8C%A8%ED%82%A4%EC%A7%80.ipynb\" target=\"_parent\"><img src=\"https://colab.research.google.com/assets/colab-badge.svg\" alt=\"Open In Colab\"/></a>"
      ]
    },
    {
      "cell_type": "markdown",
      "metadata": {
        "id": "bg5ZXMV2sn1M"
      },
      "source": [
        "# 모듈과 패키지"
      ]
    },
    {
      "cell_type": "markdown",
      "metadata": {
        "id": "Lj_iZPKnCRP0"
      },
      "source": [
        "\n",
        "\n",
        "---\n",
        "\n"
      ]
    },
    {
      "cell_type": "markdown",
      "source": [
        "##모듈(Module)\n",
        "\n",
        "* 함수, 변수 그리고 클래스의 집합\n",
        "* 다른 파이썬 프로그램에서 가져와 사용할 수 있는 파이썬 파일\n",
        "* 파이썬에는 다른 사람들이 만들어 놓은 모듈이 굉장히 많음\n",
        "* 사용자가 모듈을 직접 만들어서 사용할 수도 있음.\n",
        "\n",
        "\n",
        "###모듈의 장점\n",
        "\n",
        "* 단순성(Simplicity)\n",
        " + 전체 문제에 초점을 맞추기보다는 문제의 상대적으로 작은 부분에만 초점을 맞춤\n",
        " + 단일 모듈로 작업할 수 있는 작은 도메인\n",
        " + 개발이 쉬우며 오류 발생이 적음\n",
        "* 유지보수성(Maintainability)\n",
        " + 일반적으로 모듈은 서로 다른 문제 영역간에 논리적 경계를 설정하도록 설계\n",
        " + 상호 의존성을 최소화하는 방식으로 모듈을 작성하여 단일 모듈을 수정하면 프로그램의 다른 부분에 영향을 미칠 가능성이 줄어듬\n",
        " + 모듈 외부의 응용 프로그램에 대해 전혀 알지 못해도 모듈을 변경할 수 있음\n",
        " + 개발팀이 대규모 응용 프로그램에서 공동으로 작업할 수 있음\n",
        "* 재사용성(Reusability)\n",
        " + 단일 모듈에서 정의된 기능은 응용 프로그램의 다른 부분에서(적절히 정의된 인터페이스를 통해) 쉽게 재사용 가능\n",
        " + 중복 코드를 만들 필요가 없음\n",
        "* 범위 지정(Scoping)\n",
        " + 일반적으로 모듈은 프로그램의 여러 영역에서 식별자 간의 충돌을 피하는 데 도움이되는 별도의 네임 스페이스를 정의\n",
        "\n",
        "### 모듈의 종류\n",
        "\n",
        "* 사용자 정의 모듈: 사용자가 직접 정의해서 사용하는 모듈\n",
        "* 표준 모듈: 파이썬에서 기본 제공하는 모듈\n",
        "* 서드 파티 모듈: 외부에서 제공하는 모듈\n",
        " + 파이썬 표준 모듈에 모든 기능이 있지 않음\n",
        " + 서드 파티 모듈을 이용해 고급 프로그래밍 가능\n",
        " + 게임 개발을 위한 pygame, 데이터베이스 기능의 SQLAlchemy, 데이터 분석 기능의 NumPy"
      ],
      "metadata": {
        "id": "cQI997B9fMbU"
      }
    },
    {
      "cell_type": "markdown",
      "metadata": {
        "id": "bO6PBIYbZZ_4"
      },
      "source": [
        "### 사용자 정의 모듈\n",
        "\n",
        "* 사용자가 사용할 모듈을 직접 정의\n",
        "* 모듈 이름으로 파일명을 사용\n",
        "\n",
        "\n",
        "* IPython 내장 매직 명령어(magic command) 사용\n",
        " + `%%writefile`: 셀의 코드를 .py 파이썬 코드 파일로 저장\n",
        " + `%load`: 파이썬 코드 파일 불러오기\n",
        " + `%run`: 파이썬 코드 파일 실행"
      ]
    },
    {
      "cell_type": "code",
      "metadata": {
        "id": "CWZ8iKl6ap99",
        "outputId": "e14936d5-acb6-4b81-a07d-5a90db8a90b6",
        "colab": {
          "base_uri": "https://localhost:8080/"
        }
      },
      "source": [
        "%%writefile Module.py\n",
        "def func1():\n",
        "  print(\"Module.py: func1()\")\n",
        "\n",
        "def func2():\n",
        "  print(\"Module.py: func2()\")\n",
        "\n",
        "def func3():\n",
        "  print(\"Module.py: func3()\")"
      ],
      "execution_count": 1,
      "outputs": [
        {
          "output_type": "stream",
          "name": "stdout",
          "text": [
            "Writing Module.py\n"
          ]
        }
      ]
    },
    {
      "cell_type": "code",
      "metadata": {
        "id": "e-nLDjHWb1mX",
        "outputId": "90cf77a5-4dc5-42f8-9b3b-ddd5eb961331",
        "colab": {
          "base_uri": "https://localhost:8080/"
        }
      },
      "source": [
        "!ls"
      ],
      "execution_count": 2,
      "outputs": [
        {
          "output_type": "stream",
          "name": "stdout",
          "text": [
            "Module.py  sample_data\n"
          ]
        }
      ]
    },
    {
      "cell_type": "code",
      "metadata": {
        "id": "bQcfKftxb9uR"
      },
      "source": [
        "%load Module.py"
      ],
      "execution_count": 3,
      "outputs": []
    },
    {
      "cell_type": "code",
      "metadata": {
        "id": "bKlMMA4-cFVA"
      },
      "source": [
        "%run Module.py"
      ],
      "execution_count": 4,
      "outputs": []
    },
    {
      "cell_type": "code",
      "metadata": {
        "id": "qsFSyO7scm1d",
        "outputId": "20213995-0fa8-4b96-d975-30540dd2df8c",
        "colab": {
          "base_uri": "https://localhost:8080/"
        }
      },
      "source": [
        "import Module\n",
        "Module.func1()\n",
        "Module.func2()\n",
        "Module.func3()"
      ],
      "execution_count": 5,
      "outputs": [
        {
          "output_type": "stream",
          "name": "stdout",
          "text": [
            "Module.py: func1()\n",
            "Module.py: func2()\n",
            "Module.py: func3()\n"
          ]
        }
      ]
    },
    {
      "cell_type": "code",
      "metadata": {
        "id": "d2HOXB12DoqK",
        "outputId": "ade1a6e6-9a3d-48f4-9dfc-39eb2ea28377",
        "colab": {
          "base_uri": "https://localhost:8080/"
        }
      },
      "source": [
        "from Module import *\n",
        "func1()\n",
        "func2()\n",
        "func3()"
      ],
      "execution_count": 6,
      "outputs": [
        {
          "output_type": "stream",
          "name": "stdout",
          "text": [
            "Module.py: func1()\n",
            "Module.py: func2()\n",
            "Module.py: func3()\n"
          ]
        }
      ]
    },
    {
      "cell_type": "markdown",
      "metadata": {
        "id": "3sK8A00OD0wu"
      },
      "source": [
        "#### [Lab] 계산기 모듈 만들기\n",
        "\n",
        "* 사용자 정의 모듈을 이용해서 계산기에 필요한 기능들로 모듈 만들기"
      ]
    },
    {
      "cell_type": "code",
      "metadata": {
        "id": "r7UW1sFYD-fs",
        "outputId": "82251d50-8dbe-41c4-8f02-0e6e5d05866c",
        "colab": {
          "base_uri": "https://localhost:8080/"
        }
      },
      "source": [
        "%%writefile Calculator.py\n",
        "def add(a, b):\n",
        "  return a + b\n",
        "\n",
        "def sub(a, b):\n",
        "  return a - b\n",
        "\n",
        "def mul(a, b):\n",
        "  return a * b\n",
        "\n",
        "def div(a, b):\n",
        "  return a / b\n",
        "\n",
        "def mod(a, b):\n",
        "  return a % b"
      ],
      "execution_count": 7,
      "outputs": [
        {
          "output_type": "stream",
          "name": "stdout",
          "text": [
            "Writing Calculator.py\n"
          ]
        }
      ]
    },
    {
      "cell_type": "code",
      "metadata": {
        "id": "QUKdcfj7Em7-",
        "outputId": "0076f716-ef54-41b6-dff9-1330ee74823b",
        "colab": {
          "base_uri": "https://localhost:8080/"
        }
      },
      "source": [
        "from Calculator import *\n",
        "\n",
        "print(add(3, 5))\n",
        "print(sub(3, 5))\n",
        "print(mul(3, 5))\n",
        "print(div(3, 5))\n",
        "print(mod(3, 5))"
      ],
      "execution_count": 8,
      "outputs": [
        {
          "output_type": "stream",
          "name": "stdout",
          "text": [
            "8\n",
            "-2\n",
            "15\n",
            "0.6\n",
            "3\n"
          ]
        }
      ]
    },
    {
      "cell_type": "markdown",
      "metadata": {
        "id": "0pHAl9UoZfu6"
      },
      "source": [
        "\n",
        "\n",
        "---\n",
        "\n"
      ]
    },
    {
      "cell_type": "markdown",
      "metadata": {
        "id": "ZkEj_NrE56Xf"
      },
      "source": [
        "### 파이썬 표준 모듈\n",
        "\n",
        "* 파이썬에서 기본으로 내장된 유용한 속성과 함수들이 많음"
      ]
    },
    {
      "cell_type": "code",
      "metadata": {
        "id": "vPxFygaF6KT-",
        "outputId": "90810755-524d-4416-c643-aafbf8935da3",
        "colab": {
          "base_uri": "https://localhost:8080/"
        }
      },
      "source": [
        "import sys\n",
        "print(sys.builtin_module_names)"
      ],
      "execution_count": 9,
      "outputs": [
        {
          "output_type": "stream",
          "name": "stdout",
          "text": [
            "('_abc', '_ast', '_bisect', '_blake2', '_codecs', '_collections', '_csv', '_datetime', '_elementtree', '_functools', '_heapq', '_imp', '_io', '_locale', '_md5', '_operator', '_pickle', '_posixsubprocess', '_random', '_sha1', '_sha256', '_sha3', '_sha512', '_signal', '_socket', '_sre', '_stat', '_statistics', '_string', '_struct', '_symtable', '_thread', '_tracemalloc', '_warnings', '_weakref', 'array', 'atexit', 'binascii', 'builtins', 'cmath', 'errno', 'faulthandler', 'fcntl', 'gc', 'grp', 'itertools', 'marshal', 'math', 'posix', 'pwd', 'pyexpat', 'select', 'spwd', 'sys', 'syslog', 'time', 'unicodedata', 'xxsubtype', 'zlib')\n"
          ]
        }
      ]
    },
    {
      "cell_type": "code",
      "metadata": {
        "id": "E6pcvOoT6loa",
        "outputId": "becd2314-49e5-446d-bc1f-a09adddf3c3c",
        "colab": {
          "base_uri": "https://localhost:8080/"
        }
      },
      "source": [
        "print(dir(__builtins__))"
      ],
      "execution_count": 10,
      "outputs": [
        {
          "output_type": "stream",
          "name": "stdout",
          "text": [
            "['ArithmeticError', 'AssertionError', 'AttributeError', 'BaseException', 'BlockingIOError', 'BrokenPipeError', 'BufferError', 'BytesWarning', 'ChildProcessError', 'ConnectionAbortedError', 'ConnectionError', 'ConnectionRefusedError', 'ConnectionResetError', 'DeprecationWarning', 'EOFError', 'Ellipsis', 'EncodingWarning', 'EnvironmentError', 'Exception', 'False', 'FileExistsError', 'FileNotFoundError', 'FloatingPointError', 'FutureWarning', 'GeneratorExit', 'IOError', 'ImportError', 'ImportWarning', 'IndentationError', 'IndexError', 'InterruptedError', 'IsADirectoryError', 'KeyError', 'KeyboardInterrupt', 'LookupError', 'MemoryError', 'ModuleNotFoundError', 'NameError', 'None', 'NotADirectoryError', 'NotImplemented', 'NotImplementedError', 'OSError', 'OverflowError', 'PendingDeprecationWarning', 'PermissionError', 'ProcessLookupError', 'RecursionError', 'ReferenceError', 'ResourceWarning', 'RuntimeError', 'RuntimeWarning', 'StopAsyncIteration', 'StopIteration', 'SyntaxError', 'SyntaxWarning', 'SystemError', 'SystemExit', 'TabError', 'TimeoutError', 'True', 'TypeError', 'UnboundLocalError', 'UnicodeDecodeError', 'UnicodeEncodeError', 'UnicodeError', 'UnicodeTranslateError', 'UnicodeWarning', 'UserWarning', 'ValueError', 'Warning', 'ZeroDivisionError', '__IPYTHON__', '__build_class__', '__debug__', '__doc__', '__import__', '__loader__', '__name__', '__package__', '__spec__', 'abs', 'aiter', 'all', 'anext', 'any', 'ascii', 'bin', 'bool', 'breakpoint', 'bytearray', 'bytes', 'callable', 'chr', 'classmethod', 'compile', 'complex', 'copyright', 'credits', 'delattr', 'dict', 'dir', 'display', 'divmod', 'enumerate', 'eval', 'exec', 'execfile', 'filter', 'float', 'format', 'frozenset', 'get_ipython', 'getattr', 'globals', 'hasattr', 'hash', 'help', 'hex', 'id', 'input', 'int', 'isinstance', 'issubclass', 'iter', 'len', 'license', 'list', 'locals', 'map', 'max', 'memoryview', 'min', 'next', 'object', 'oct', 'open', 'ord', 'pow', 'print', 'property', 'range', 'repr', 'reversed', 'round', 'runfile', 'set', 'setattr', 'slice', 'sorted', 'staticmethod', 'str', 'sum', 'super', 'tuple', 'type', 'vars', 'zip']\n"
          ]
        }
      ]
    },
    {
      "cell_type": "markdown",
      "metadata": {
        "id": "ILtHUW9h6zKi"
      },
      "source": [
        "### 시간 모듈(datetime)\n",
        "\n",
        "* 운영체제가 제공하는 시간 기능을 파이썬에서 사용할 수 있도록 만들어진 모듈\n",
        "* 시간 모듈을 사용하기 위해서는 `import time` 필요"
      ]
    },
    {
      "cell_type": "code",
      "metadata": {
        "id": "MbSkRsQp622D",
        "outputId": "9fc4b549-8eea-4c82-8ba7-3e060abcc1aa",
        "colab": {
          "base_uri": "https://localhost:8080/"
        }
      },
      "source": [
        "import time\n",
        "print(dir(time))"
      ],
      "execution_count": 11,
      "outputs": [
        {
          "output_type": "stream",
          "name": "stdout",
          "text": [
            "['CLOCK_BOOTTIME', 'CLOCK_MONOTONIC', 'CLOCK_MONOTONIC_RAW', 'CLOCK_PROCESS_CPUTIME_ID', 'CLOCK_REALTIME', 'CLOCK_TAI', 'CLOCK_THREAD_CPUTIME_ID', '_STRUCT_TM_ITEMS', '__doc__', '__loader__', '__name__', '__package__', '__spec__', 'altzone', 'asctime', 'clock_getres', 'clock_gettime', 'clock_gettime_ns', 'clock_settime', 'clock_settime_ns', 'ctime', 'daylight', 'get_clock_info', 'gmtime', 'localtime', 'mktime', 'monotonic', 'monotonic_ns', 'perf_counter', 'perf_counter_ns', 'process_time', 'process_time_ns', 'pthread_getcpuclockid', 'sleep', 'strftime', 'strptime', 'struct_time', 'thread_time', 'thread_time_ns', 'time', 'time_ns', 'timezone', 'tzname', 'tzset']\n"
          ]
        }
      ]
    },
    {
      "cell_type": "markdown",
      "metadata": {
        "id": "z9LVec3hYyqa"
      },
      "source": [
        "* 시간 모듈 `time` 예제"
      ]
    },
    {
      "cell_type": "code",
      "metadata": {
        "id": "DnE8kYXuYzC8",
        "outputId": "a17001cb-3285-45de-e629-6a710408c388",
        "colab": {
          "base_uri": "https://localhost:8080/"
        }
      },
      "source": [
        "import time\n",
        "print(time)\n",
        "print(time.time())\n",
        "print(time.time())\n",
        "print(time.time())\n",
        "\n",
        "now = time.gmtime(time.time())\n",
        "print(now)\n",
        "\n",
        "year = str(now.tm_year)\n",
        "month = str(now.tm_mon)\n",
        "day = str(now.tm_mday)\n",
        "print(year + \"년\", month + \"월\", day + \"일\")\n",
        "\n",
        "hour = str(now.tm_hour)\n",
        "minute = str(now.tm_min)\n",
        "sec = str(now.tm_sec)\n",
        "print(hour + \"시\", minute + \"분\", sec + \"초\")"
      ],
      "execution_count": 23,
      "outputs": [
        {
          "output_type": "stream",
          "name": "stdout",
          "text": [
            "<module 'time' (built-in)>\n",
            "1720162308.4871757\n",
            "1720162308.4872625\n",
            "1720162308.4873405\n",
            "time.struct_time(tm_year=2024, tm_mon=7, tm_mday=5, tm_hour=6, tm_min=51, tm_sec=48, tm_wday=4, tm_yday=187, tm_isdst=0)\n",
            "2024년 7월 5일\n",
            "6시 51분 48초\n"
          ]
        }
      ]
    },
    {
      "cell_type": "markdown",
      "metadata": {
        "id": "BbFoAvcKYnOI"
      },
      "source": [
        "* 날짜시간 모듈 `datetime`의 `date` 클래스 예제"
      ]
    },
    {
      "cell_type": "code",
      "metadata": {
        "id": "RvkSO1yhYs5W",
        "outputId": "f6dd7dd1-2d02-47ff-954d-e5d4bac7a938",
        "colab": {
          "base_uri": "https://localhost:8080/"
        }
      },
      "source": [
        "from datetime import date\n",
        "print(date)\n",
        "print(date(2000, 1, 1))\n",
        "print(date(year = 2010, month = 1, day = 1))\n",
        "print(date.today())\n",
        "\n",
        "today = date.today()\n",
        "year = str(today.year)\n",
        "month = str(today.month)\n",
        "day = str(today.day)\n",
        "weekday = \"월화수목금토일\"[today.weekday()]\n",
        "print(year + \"년\", month + \"월\", day + \"일\", weekday + \"요일\")"
      ],
      "execution_count": 31,
      "outputs": [
        {
          "output_type": "stream",
          "name": "stdout",
          "text": [
            "<class 'datetime.date'>\n",
            "2000-01-01\n",
            "2010-01-01\n",
            "2024-07-05\n",
            "2024년 7월 5일 금요일\n"
          ]
        }
      ]
    },
    {
      "cell_type": "markdown",
      "metadata": {
        "id": "MYSooRuLaOym"
      },
      "source": [
        "* 날짜시간 모듈 `datetime`의 `time` 클래스 예제"
      ]
    },
    {
      "cell_type": "code",
      "metadata": {
        "id": "qSF7YJg_aPHn",
        "outputId": "90d5c087-6256-4a6d-e052-400bcda3c0fe",
        "colab": {
          "base_uri": "https://localhost:8080/"
        }
      },
      "source": [
        "from datetime import time\n",
        "print(time)\n",
        "print(time(12, 0))\n",
        "print(time(14, 30))\n",
        "print(time(16, 30, 45))\n",
        "print(time(18, 00, 15, 100000))\n",
        "\n",
        "now = time(20, 40, 15, 20000)\n",
        "hour = str(now.hour)\n",
        "minute =str(now.minute)\n",
        "sec = str(now.second)\n",
        "msec = str(now.microsecond)\n",
        "print(hour + \"시\", minute + \"분\", sec + \"초\", msec + \"마이크로초\")"
      ],
      "execution_count": 37,
      "outputs": [
        {
          "output_type": "stream",
          "name": "stdout",
          "text": [
            "<class 'datetime.time'>\n",
            "12:00:00\n",
            "14:30:00\n",
            "16:30:45\n",
            "18:00:15.100000\n",
            "20시 40분 15초 20000마이크로초\n"
          ]
        }
      ]
    },
    {
      "cell_type": "markdown",
      "metadata": {
        "id": "sdtzTp5tlqSb"
      },
      "source": [
        "* 날짜시간 모듈 `datetime`의 `datetime` 클래스 예제\n",
        "* 날짜시간을 문자열로 표현하기 위한 `strftime()` 메소드 예제\n",
        " + %Y: 년(YYYY)\n",
        " + %y: 년(yy)\n",
        " + %m: 월(mm)\n",
        " + %d: 일(dd)\n",
        " + %A: 요일\n",
        " + %H: 시(24)\n",
        " + %I: 시(12)\n",
        " + %p: AM, PM\n",
        " + %M: 분(MM)\n",
        " + %S: 초(SS)\n",
        " + %f: 마이크로초"
      ]
    },
    {
      "cell_type": "code",
      "metadata": {
        "id": "mlwwukrqlsKn",
        "outputId": "eed72ff4-6976-46bd-9aa7-0a84799ee7af",
        "colab": {
          "base_uri": "https://localhost:8080/"
        }
      },
      "source": [
        "from datetime import datetime\n",
        "print(datetime)\n",
        "print(datetime(2020, 1, 1))\n",
        "print(datetime(2020, 1, 1, 1, 15, 45))\n",
        "print(datetime.now())\n",
        "now = datetime.now()\n",
        "print(now.strftime('%Y년 %m월 %d일 %H시 %M분 %S초'))\n",
        "print(now.strftime('%y/%m/%d %p %I:%M:%W:%f'))"
      ],
      "execution_count": 45,
      "outputs": [
        {
          "output_type": "stream",
          "name": "stdout",
          "text": [
            "<class 'datetime.datetime'>\n",
            "2020-01-01 00:00:00\n",
            "2020-01-01 01:15:45\n",
            "2024-07-05 07:09:06.697954\n",
            "2024년 07월 05일 07시 09분 06초\n",
            "24/07/05 AM 07:09:27:698111\n"
          ]
        }
      ]
    },
    {
      "cell_type": "markdown",
      "metadata": {
        "id": "iE13qouhqEGd"
      },
      "source": [
        "#### [Lab] 태어난지 몇 일이 되었는가?\n",
        "\n",
        "* 태어난지 얼마나 지났는지 계산하기"
      ]
    },
    {
      "cell_type": "code",
      "metadata": {
        "id": "LvW2SqpYpXex",
        "outputId": "53db410b-1ad6-4b1d-fe65-8988ecc896e8",
        "colab": {
          "base_uri": "https://localhost:8080/"
        }
      },
      "source": [
        "from datetime import date\n",
        "birthday = date(1996, 5, 15)\n",
        "today = date.today()\n",
        "day = today - birthday\n",
        "print(day.days)"
      ],
      "execution_count": 47,
      "outputs": [
        {
          "output_type": "stream",
          "name": "stdout",
          "text": [
            "10278\n"
          ]
        }
      ]
    },
    {
      "cell_type": "markdown",
      "metadata": {
        "id": "nl1EYj9c6pTG"
      },
      "source": [
        "### 수학 모듈(math)\n",
        "\n",
        "* 파이썬에서 수학에 필요한 math 모듈 제공\n"
      ]
    },
    {
      "cell_type": "code",
      "metadata": {
        "id": "iwKRg4ZI6sds",
        "outputId": "ab4858a2-5e9c-4be5-a992-3a92292944f8",
        "colab": {
          "base_uri": "https://localhost:8080/"
        }
      },
      "source": [
        "import math\n",
        "print(dir(math))"
      ],
      "execution_count": 48,
      "outputs": [
        {
          "output_type": "stream",
          "name": "stdout",
          "text": [
            "['__doc__', '__loader__', '__name__', '__package__', '__spec__', 'acos', 'acosh', 'asin', 'asinh', 'atan', 'atan2', 'atanh', 'ceil', 'comb', 'copysign', 'cos', 'cosh', 'degrees', 'dist', 'e', 'erf', 'erfc', 'exp', 'expm1', 'fabs', 'factorial', 'floor', 'fmod', 'frexp', 'fsum', 'gamma', 'gcd', 'hypot', 'inf', 'isclose', 'isfinite', 'isinf', 'isnan', 'isqrt', 'lcm', 'ldexp', 'lgamma', 'log', 'log10', 'log1p', 'log2', 'modf', 'nan', 'nextafter', 'perm', 'pi', 'pow', 'prod', 'radians', 'remainder', 'sin', 'sinh', 'sqrt', 'tan', 'tanh', 'tau', 'trunc', 'ulp']\n"
          ]
        }
      ]
    },
    {
      "cell_type": "markdown",
      "source": [
        "* `math` 모듈 대표 상수\n",
        " + `math.pi`: 원주율\n",
        " + `math.e`: 자연상수\n",
        " + `math.inf`: 무한대\n",
        "\n",
        "* `math` 모듈에서 제공하는 대표 함수\n",
        " + `math.factorial(x)`: x팩토리얼\n",
        " + `math.gcd(a, b)`: a와 b의 최대공약수\n",
        " + `math.floor(x)`: x의 내림값\n",
        " + `math.ceil(x)`: x의 올림값\n",
        " + `math.pow(x, y)`: x의 y승\n",
        " + `math.sqrt(x)`: x의 제곱근\n",
        " + `math.log(x, base)`: base를 밑으로 하는 x 로그\n",
        " + `math.sin(x)`: x 라디안의 사인\n",
        " + `math.cos(x)`: x 라디안의 코사인\n",
        " + `math.tan(x)`: x 라디안의 탄젠트\n",
        " + `math.degrees(x)`: x 라디안을 도 단위로 변환\n",
        " + `math.radians(x)`: x 도를 라디안 단위로 변환"
      ],
      "metadata": {
        "id": "CkHPjURTvNIL"
      }
    },
    {
      "cell_type": "code",
      "metadata": {
        "id": "d3mmKmFiswty",
        "outputId": "e851222e-08ce-4031-b863-b0b1b0372b3a",
        "colab": {
          "base_uri": "https://localhost:8080/"
        }
      },
      "source": [
        "import math\n",
        "print(math.factorial(3))\n",
        "print(math.gcd(12, 24))\n",
        "print(math.floor(math.pi))\n",
        "print(math.ceil(math.pi))\n",
        "print(math.pow(2, 10))\n",
        "print(math.sqrt(10))\n",
        "print(math.log(10, 2))\n",
        "print(math.degrees(math.pi))\n",
        "print(math.radians(180))\n",
        "print(math.sin(math.radians(90)))\n",
        "print(math.cos(math.radians(180)))"
      ],
      "execution_count": 59,
      "outputs": [
        {
          "output_type": "stream",
          "name": "stdout",
          "text": [
            "6\n",
            "12\n",
            "3\n",
            "4\n",
            "1024.0\n",
            "3.1622776601683795\n",
            "3.3219280948873626\n",
            "180.0\n",
            "3.141592653589793\n",
            "1.0\n",
            "-1.0\n"
          ]
        }
      ]
    },
    {
      "cell_type": "markdown",
      "metadata": {
        "id": "iAbuv-GxzRH0"
      },
      "source": [
        "### 순열과 조합 모듈(itertools)\n",
        "\n",
        "* `itertools` 모듈에서 곱집합, 순열, 조합 등을 구하는 함수 제공\n",
        " + `itertools.product(seq1, ...)`: 시퀀스의 곱집합\n",
        " + `itertools.permutations(p, r)`: p 시퀀스의 요소 r개를 나열하는 수열\n",
        " + `itertools.combinatgaion(p, r)`: p 시퀀스의 요소 r개를 선택하는 조합\n",
        " + `itertools.combinations_with_replacement(p, r)`: p 시퀀스의 요소 r개를 중복 허용해 선택하는 조합                                                           "
      ]
    },
    {
      "cell_type": "code",
      "metadata": {
        "id": "fG_PztCsz4xk",
        "outputId": "89cfe0aa-ce6a-49f7-f0e2-bf38b87b0338",
        "colab": {
          "base_uri": "https://localhost:8080/"
        }
      },
      "source": [
        "import itertools\n",
        "list_1 = ['a', 'b', 'c']\n",
        "print(list_1)\n",
        "list_2 = [1, 2]\n",
        "print(list_2)\n",
        "list_cp = list(itertools.product(list_1, list_2))\n",
        "print(list_cp)\n",
        "list_p = list(itertools.permutations(list_1, 2))\n",
        "print(list_p)\n",
        "list_c = list(itertools.combinations(list_1, 2))\n",
        "print(list_c)\n",
        "list_cr = list(itertools.combinations_with_replacement(list_1, 2))\n",
        "print(list_cr)"
      ],
      "execution_count": 63,
      "outputs": [
        {
          "output_type": "stream",
          "name": "stdout",
          "text": [
            "['a', 'b', 'c']\n",
            "[1, 2]\n",
            "[('a', 1), ('a', 2), ('b', 1), ('b', 2), ('c', 1), ('c', 2)]\n",
            "[('a', 'b'), ('a', 'c'), ('b', 'a'), ('b', 'c'), ('c', 'a'), ('c', 'b')]\n",
            "[('a', 'b'), ('a', 'c'), ('b', 'c')]\n",
            "[('a', 'a'), ('a', 'b'), ('a', 'c'), ('b', 'b'), ('b', 'c'), ('c', 'c')]\n"
          ]
        }
      ]
    },
    {
      "cell_type": "markdown",
      "metadata": {
        "id": "UNlrNquK2eMg"
      },
      "source": [
        "### 통계 모듈(statistics)\n",
        "\n",
        "* `statistics` 모듈에서는 산술평균, 표준편차 등 통계에 필요한 계산 관련 함수들을 제공\n",
        " + `statistics.median(seq)`: 시퀀스의 중앙값\n",
        " + `statistics.mean(seq)`: 시퀀스의 산술 평균\n",
        " + `statistics.harmonic_mean(seq)`: 시퀀스의 조화 평균\n",
        " + `statistics.stdev(seq)`: 시퀀스의 표본 표준편차\n",
        " + `statistics.variance(seq)`: 시퀀스의 표본 분산"
      ]
    },
    {
      "cell_type": "code",
      "metadata": {
        "id": "sqQiNW-k21XJ",
        "outputId": "64874ae7-4fe8-4137-ffc2-67e1149a68c9",
        "colab": {
          "base_uri": "https://localhost:8080/"
        }
      },
      "source": [
        "import statistics\n",
        "values = [56, 44, 67, 47, 82, 67, 92, 89, 81, 82]\n",
        "print(statistics.median(values))\n",
        "print(statistics.mean(values))\n",
        "print(statistics.harmonic_mean(values))\n",
        "print(statistics.stdev(values))\n",
        "print(statistics.variance(values))"
      ],
      "execution_count": 64,
      "outputs": [
        {
          "output_type": "stream",
          "name": "stdout",
          "text": [
            "74.0\n",
            "70.7\n",
            "66.42170307761845\n",
            "17.217884758458442\n",
            "296.4555555555556\n"
          ]
        }
      ]
    },
    {
      "cell_type": "markdown",
      "metadata": {
        "id": "nwW2LgNc67u3"
      },
      "source": [
        "### 랜덤 모듈(random)\n",
        "\n",
        "* 랜덤 모듈을 사용하기 위해서는 `import random` 필요\n",
        " + `random.random()`: 0.0~1.0 미만의 실수값 반환\n",
        " + `random.randint(1, 10)`: 1~10 사이의 정수 반환\n",
        " + `random.randrange(0, 10, 2)`: 0~10 미만의 2의 배수만 반환\n",
        " + `random.choice()`: 자료형 변수에서 임의의 값 반환\n",
        " + `random.sample()`: 자료형 변수에서 필요한 개수만큼 반환\n",
        " + `random.shuffle()`: 자료형 변수 내용을 랜덤으로 셔플"
      ]
    },
    {
      "cell_type": "code",
      "metadata": {
        "id": "PuAbFRsa7IUH",
        "outputId": "5d67ac22-9e16-46eb-d4e2-0940f6f076c9",
        "colab": {
          "base_uri": "https://localhost:8080/"
        }
      },
      "source": [
        "import random\n",
        "print(random.random())\n",
        "print(random.randint(1, 10))\n",
        "print(random.randrange(0, 10, 2))"
      ],
      "execution_count": 68,
      "outputs": [
        {
          "output_type": "stream",
          "name": "stdout",
          "text": [
            "0.5023991611770322\n",
            "7\n",
            "6\n"
          ]
        }
      ]
    },
    {
      "cell_type": "code",
      "metadata": {
        "id": "aDz_82bc7qJx",
        "outputId": "19aa5f5a-c534-4301-84b7-ed53937eadc7",
        "colab": {
          "base_uri": "https://localhost:8080/"
        }
      },
      "source": [
        "li = [10, 20, 30, 40, 50]\n",
        "print(li)\n",
        "print(random.choice(li))\n",
        "print(random.sample(li, 2))\n",
        "random.shuffle(li)\n",
        "print(li)"
      ],
      "execution_count": 69,
      "outputs": [
        {
          "output_type": "stream",
          "name": "stdout",
          "text": [
            "[10, 20, 30, 40, 50]\n",
            "30\n",
            "[30, 10]\n",
            "[30, 50, 20, 40, 10]\n"
          ]
        }
      ]
    },
    {
      "cell_type": "markdown",
      "metadata": {
        "id": "RFMGmK8r79zv"
      },
      "source": [
        "### 네임스페이스(Namespace)\n",
        "\n",
        "* 모듈 호출의 범위 지정\n",
        "* 모듈 이름에 alias를 생성하여 모듈의 이름을 바꿔 사용"
      ]
    },
    {
      "cell_type": "code",
      "metadata": {
        "id": "OmY9T8g68M5J",
        "outputId": "6e8b6081-6500-49c1-a961-f61c5abf47b5",
        "colab": {
          "base_uri": "https://localhost:8080/"
        }
      },
      "source": [
        "import random as rd\n",
        "\n",
        "print(rd.random())\n",
        "print(rd.randrange(0, 10, 2))"
      ],
      "execution_count": 72,
      "outputs": [
        {
          "output_type": "stream",
          "name": "stdout",
          "text": [
            "0.11712752313471952\n",
            "8\n"
          ]
        }
      ]
    },
    {
      "cell_type": "markdown",
      "metadata": {
        "id": "ijyblqrg8NfX"
      },
      "source": [
        "* from 구문을 사용하여 모듈에서 특정 함수 또는 클래스만 호출"
      ]
    },
    {
      "cell_type": "code",
      "metadata": {
        "id": "YwkdUeaL8PeK",
        "outputId": "3d3cf151-79e1-42b8-feae-1f635fb72f4f",
        "colab": {
          "base_uri": "https://localhost:8080/"
        }
      },
      "source": [
        "from random import random, randrange\n",
        "\n",
        "print(random())\n",
        "print(randrange(0, 10, 2))"
      ],
      "execution_count": 73,
      "outputs": [
        {
          "output_type": "stream",
          "name": "stdout",
          "text": [
            "0.9006381279462055\n",
            "2\n"
          ]
        }
      ]
    },
    {
      "cell_type": "markdown",
      "metadata": {
        "id": "6jIH8CcK8P9Q"
      },
      "source": [
        "* '*'을 사용하여 모듈 안에 모든 함수, 클래스, 변수를 가져옴"
      ]
    },
    {
      "cell_type": "code",
      "metadata": {
        "id": "NdCD7wxF8Rpj",
        "outputId": "0ea7987d-1c86-4e28-d16d-c2439f936b44",
        "colab": {
          "base_uri": "https://localhost:8080/"
        }
      },
      "source": [
        "from random import *\n",
        "\n",
        "print(random())\n",
        "print(randrange(0, 10, 2))"
      ],
      "execution_count": 74,
      "outputs": [
        {
          "output_type": "stream",
          "name": "stdout",
          "text": [
            "0.5351726392781532\n",
            "8\n"
          ]
        }
      ]
    },
    {
      "cell_type": "markdown",
      "metadata": {
        "id": "qQc_0nwV1YyE"
      },
      "source": [
        "## 패키지(Packages)\n",
        "\n",
        "* 패키지는 모듈의 집합\n",
        "* 패키지 안에 여러 모듈이 존재\n",
        "* 모듈을 주제별로 분리할 때 사용\n",
        "* 디렉터리와 같이 계층적인 구조로 관리\n",
        "* 모듈들이 서로 포함 관게를 가지며 거대한 패키지를 가짐\n",
        "* 파이썬에서는 패키지가 하나의 라이브러리\n"
      ]
    },
    {
      "cell_type": "code",
      "metadata": {
        "id": "jekuqE1NI0mJ"
      },
      "source": [
        "!mkdir package\n",
        "!mkdir package/sub_package_1\n",
        "!mkdir package/sub_package_2\n",
        "!mkdir package/sub_package_3"
      ],
      "execution_count": 75,
      "outputs": []
    },
    {
      "cell_type": "code",
      "metadata": {
        "id": "bPz0apRgJSJ-",
        "outputId": "4eff12a7-e8f0-46a8-f18d-8fa5fb2645b7",
        "colab": {
          "base_uri": "https://localhost:8080/"
        }
      },
      "source": [
        "!ls package"
      ],
      "execution_count": 76,
      "outputs": [
        {
          "output_type": "stream",
          "name": "stdout",
          "text": [
            "sub_package_1  sub_package_2  sub_package_3\n"
          ]
        }
      ]
    },
    {
      "cell_type": "code",
      "metadata": {
        "id": "Z39w6vP1Jnuu",
        "outputId": "e84a653b-582b-4ea3-ef76-cd78ec7cfd3f",
        "colab": {
          "base_uri": "https://localhost:8080/"
        }
      },
      "source": [
        "%%writefile package/sub_package_1/sub1_module_1.py\n",
        "def print_module():\n",
        "  print(\"sub_package_1/sub1_module_1\")"
      ],
      "execution_count": 77,
      "outputs": [
        {
          "output_type": "stream",
          "name": "stdout",
          "text": [
            "Writing package/sub_package_1/sub1_module_1.py\n"
          ]
        }
      ]
    },
    {
      "cell_type": "code",
      "metadata": {
        "id": "6U6AkKypKILn",
        "outputId": "b0955e65-bbfb-4e78-9cc8-165b4c9706b2",
        "colab": {
          "base_uri": "https://localhost:8080/"
        }
      },
      "source": [
        "%%writefile package/sub_package_1/sub1_module_2.py\n",
        "def print_module():\n",
        "  print(\"sub_package_1/sub1_module_2\")"
      ],
      "execution_count": 78,
      "outputs": [
        {
          "output_type": "stream",
          "name": "stdout",
          "text": [
            "Writing package/sub_package_1/sub1_module_2.py\n"
          ]
        }
      ]
    },
    {
      "cell_type": "code",
      "metadata": {
        "id": "RSuJJKzvKKx6",
        "outputId": "218c914c-be75-49e1-83fc-0c6b7a18d367",
        "colab": {
          "base_uri": "https://localhost:8080/"
        }
      },
      "source": [
        "%%writefile package/sub_package_2/sub2_module_1.py\n",
        "def print_module():\n",
        "  print(\"sub_package_2/sub2_module_1\")"
      ],
      "execution_count": 79,
      "outputs": [
        {
          "output_type": "stream",
          "name": "stdout",
          "text": [
            "Writing package/sub_package_2/sub2_module_1.py\n"
          ]
        }
      ]
    },
    {
      "cell_type": "code",
      "metadata": {
        "id": "BhqpvBAXKNGo",
        "outputId": "30969932-abf7-4739-dd3b-a06f578a2163",
        "colab": {
          "base_uri": "https://localhost:8080/"
        }
      },
      "source": [
        "%%writefile package/sub_package_2/sub2_module_2.py\n",
        "def print_module():\n",
        "  print(\"sub_package_2/sub2_module_2\")"
      ],
      "execution_count": 80,
      "outputs": [
        {
          "output_type": "stream",
          "name": "stdout",
          "text": [
            "Writing package/sub_package_2/sub2_module_2.py\n"
          ]
        }
      ]
    },
    {
      "cell_type": "code",
      "metadata": {
        "id": "mRe1x_7XKORQ",
        "outputId": "150e2604-65ae-4145-e98f-707af423eb38",
        "colab": {
          "base_uri": "https://localhost:8080/"
        }
      },
      "source": [
        "%%writefile package/sub_package_3/sub3_module_1.py\n",
        "def print_module():\n",
        "  print(\"sub_package_3/sub3_module_1\")"
      ],
      "execution_count": 81,
      "outputs": [
        {
          "output_type": "stream",
          "name": "stdout",
          "text": [
            "Writing package/sub_package_3/sub3_module_1.py\n"
          ]
        }
      ]
    },
    {
      "cell_type": "code",
      "metadata": {
        "id": "8kQUk7O0KP3w",
        "outputId": "d83585bb-d867-4722-d28b-8424a2cd61c9",
        "colab": {
          "base_uri": "https://localhost:8080/"
        }
      },
      "source": [
        "%%writefile package/sub_package_3/sub3_module_2.py\n",
        "def print_module():\n",
        "  print(\"sub_package_3/sub3_module_2\")"
      ],
      "execution_count": 82,
      "outputs": [
        {
          "output_type": "stream",
          "name": "stdout",
          "text": [
            "Writing package/sub_package_3/sub3_module_2.py\n"
          ]
        }
      ]
    },
    {
      "cell_type": "markdown",
      "metadata": {
        "id": "wljVmXlNIrvv"
      },
      "source": [
        "### 패키지 실행\n",
        "\n",
        "* 정의한 패키지의 모듈 실행"
      ]
    },
    {
      "cell_type": "code",
      "metadata": {
        "id": "3yew_JCLMsp7",
        "outputId": "3ec0f920-f87d-43ca-ff8f-f5bd664e44ea",
        "colab": {
          "base_uri": "https://localhost:8080/"
        }
      },
      "source": [
        "from package.sub_package_1 import sub1_module_1, sub1_module_2\n",
        "sub1_module_1.print_module()\n",
        "sub1_module_2.print_module()"
      ],
      "execution_count": 83,
      "outputs": [
        {
          "output_type": "stream",
          "name": "stdout",
          "text": [
            "sub_package_1/sub1_module_1\n",
            "sub_package_1/sub1_module_2\n"
          ]
        }
      ]
    },
    {
      "cell_type": "code",
      "metadata": {
        "id": "vkRbKEa8NOmh",
        "outputId": "e1c7b4cc-f3a9-4434-8746-ad534e97800c",
        "colab": {
          "base_uri": "https://localhost:8080/"
        }
      },
      "source": [
        "from package.sub_package_2 import sub2_module_1, sub2_module_2\n",
        "sub2_module_1.print_module()\n",
        "sub2_module_2.print_module()"
      ],
      "execution_count": 84,
      "outputs": [
        {
          "output_type": "stream",
          "name": "stdout",
          "text": [
            "sub_package_2/sub2_module_1\n",
            "sub_package_2/sub2_module_2\n"
          ]
        }
      ]
    },
    {
      "cell_type": "code",
      "metadata": {
        "id": "3d0daVmONRBT",
        "outputId": "d4868f25-5af6-4c5b-fd9e-a46f3363bc01",
        "colab": {
          "base_uri": "https://localhost:8080/"
        }
      },
      "source": [
        "from package.sub_package_3 import sub3_module_1, sub3_module_2\n",
        "sub3_module_1.print_module()\n",
        "sub3_module_2.print_module()"
      ],
      "execution_count": 86,
      "outputs": [
        {
          "output_type": "stream",
          "name": "stdout",
          "text": [
            "sub_package_3/sub3_module_1\n",
            "sub_package_3/sub3_module_2\n"
          ]
        }
      ]
    },
    {
      "cell_type": "code",
      "metadata": {
        "id": "Dy0EJOccNrrS",
        "outputId": "dd38e66d-2db3-4ac9-9ee0-cb8cd36f6396",
        "colab": {
          "base_uri": "https://localhost:8080/"
        }
      },
      "source": [
        "from package import *\n",
        "sub1_module_1.print_module()\n",
        "sub1_module_2.print_module()\n",
        "sub2_module_1.print_module()\n",
        "sub2_module_2.print_module()\n",
        "sub3_module_1.print_module()\n",
        "sub3_module_2.print_module()"
      ],
      "execution_count": 87,
      "outputs": [
        {
          "output_type": "stream",
          "name": "stdout",
          "text": [
            "sub_package_1/sub1_module_1\n",
            "sub_package_1/sub1_module_2\n",
            "sub_package_2/sub2_module_1\n",
            "sub_package_2/sub2_module_2\n",
            "sub_package_3/sub3_module_1\n",
            "sub_package_3/sub3_module_2\n"
          ]
        }
      ]
    },
    {
      "cell_type": "markdown",
      "metadata": {
        "id": "CrmBC32pe2Ag"
      },
      "source": [
        "### 패키지 구성 파일\n",
        "\n",
        "* \\_\\_init\\_\\_.py\n",
        " + 파이썬 패키지를 선언하는 초기화 스크립트\n",
        " + 패키지에 대한 메타데이터에 해당하는 내용 포함\n",
        " + 파이썬의 거의 모든 라이브러리에 포함\n",
        " + 파이썬 버전 3.3부터는 \\_\\_init\\_\\_.py 파일이 없어도 패키지로 인식\n",
        " + 파이썬 버전 3.3 밑의 하위 버전과 호환을 위해 \\_\\_init\\_\\_.py 파일 생성\n",
        " + \\_\\_all\\_\\_이라는 리스트현의 변수에 하위 패키지의 이름을 작성\n",
        " + `__all__=['sub_package_1', 'sub_package_2', 'sub_package_3']`"
      ]
    },
    {
      "cell_type": "code",
      "metadata": {
        "id": "S80DN-P9IYKw",
        "outputId": "42ab587a-bfe1-434a-fc9a-15e5b5f61288",
        "colab": {
          "base_uri": "https://localhost:8080/"
        }
      },
      "source": [
        "%%writefile package/__init__.py\n",
        "__all__ = ['sub_package_1', 'sub_package_2', 'sub_package_3']"
      ],
      "execution_count": 88,
      "outputs": [
        {
          "output_type": "stream",
          "name": "stdout",
          "text": [
            "Writing package/__init__.py\n"
          ]
        }
      ]
    },
    {
      "cell_type": "code",
      "metadata": {
        "id": "T_Lv285gPt_4",
        "outputId": "8418b441-71f8-4964-e32b-36b766ccdd27",
        "colab": {
          "base_uri": "https://localhost:8080/"
        }
      },
      "source": [
        "%%writefile package/sub_package_1/__init__.py\n",
        "__all__ = ['sub1_module_1', 'sub1_module_2']"
      ],
      "execution_count": 89,
      "outputs": [
        {
          "output_type": "stream",
          "name": "stdout",
          "text": [
            "Writing package/sub_package_1/__init__.py\n"
          ]
        }
      ]
    },
    {
      "cell_type": "code",
      "metadata": {
        "id": "MWb5eNCAP56o",
        "outputId": "5f14f951-9810-44b9-b060-f95b83d6b090",
        "colab": {
          "base_uri": "https://localhost:8080/"
        }
      },
      "source": [
        "%%writefile package/sub_package_2/__init__.py\n",
        "__all__ = ['sub2_module_1', 'sub2_module_2']"
      ],
      "execution_count": 90,
      "outputs": [
        {
          "output_type": "stream",
          "name": "stdout",
          "text": [
            "Writing package/sub_package_2/__init__.py\n"
          ]
        }
      ]
    },
    {
      "cell_type": "code",
      "metadata": {
        "id": "EvYOqe0KP6de",
        "outputId": "5c8d7c2b-a93e-41b1-8d23-60da8ea5d787",
        "colab": {
          "base_uri": "https://localhost:8080/"
        }
      },
      "source": [
        "%%writefile package/sub_package_3/__init__.py\n",
        "__all__ = ['sub3_module_1', 'sub3_module_2']"
      ],
      "execution_count": 91,
      "outputs": [
        {
          "output_type": "stream",
          "name": "stdout",
          "text": [
            "Writing package/sub_package_3/__init__.py\n"
          ]
        }
      ]
    },
    {
      "cell_type": "code",
      "metadata": {
        "id": "t47pORCoP_Ks",
        "outputId": "d4206852-eb92-45db-b6e8-865aaf172497",
        "colab": {
          "base_uri": "https://localhost:8080/"
        }
      },
      "source": [
        "!ls package"
      ],
      "execution_count": 92,
      "outputs": [
        {
          "output_type": "stream",
          "name": "stdout",
          "text": [
            "__init__.py  sub_package_1  sub_package_2  sub_package_3\n"
          ]
        }
      ]
    },
    {
      "cell_type": "code",
      "metadata": {
        "id": "FygAt2laQDes",
        "outputId": "a4841490-570d-4db3-c89d-6cda35f693d8",
        "colab": {
          "base_uri": "https://localhost:8080/"
        }
      },
      "source": [
        "!ls package/sub_package_1"
      ],
      "execution_count": 93,
      "outputs": [
        {
          "output_type": "stream",
          "name": "stdout",
          "text": [
            "__init__.py  __pycache__  sub1_module_1.py  sub1_module_2.py\n"
          ]
        }
      ]
    },
    {
      "cell_type": "markdown",
      "metadata": {
        "id": "ErE9_A3uPcAJ"
      },
      "source": [
        "\n",
        "* \\_\\_main\\_\\_.py\n",
        "  + 패키지 자체를 실행하기 위한 용도\n",
        "  + 패키지를 실행시키면 \\_\\_main\\_\\_.py 실행"
      ]
    },
    {
      "cell_type": "code",
      "metadata": {
        "id": "_leUWfUDNTQZ",
        "outputId": "8d44939f-e31b-40cd-899a-88e94279072f",
        "colab": {
          "base_uri": "https://localhost:8080/"
        }
      },
      "source": [
        "%%writefile package/__main__.py\n",
        "from sub_package_1 import *\n",
        "from sub_package_2 import *\n",
        "from sub_package_3 import *\n",
        "\n",
        "if __name__ == '__main__':\n",
        "  sub1_module_1.print_module()\n",
        "  sub1_module_2.print_module()\n",
        "  sub2_module_1.print_module()\n",
        "  sub2_module_2.print_module()\n",
        "  sub3_module_1.print_module()\n",
        "  sub3_module_2.print_module()"
      ],
      "execution_count": 95,
      "outputs": [
        {
          "output_type": "stream",
          "name": "stdout",
          "text": [
            "Writing package/__main__.py\n"
          ]
        }
      ]
    },
    {
      "cell_type": "code",
      "metadata": {
        "id": "jl-y2mT6OTb9",
        "outputId": "2a12a47c-5a60-4b6e-ee5b-f3df686346a2",
        "colab": {
          "base_uri": "https://localhost:8080/"
        }
      },
      "source": [
        "!python package"
      ],
      "execution_count": 96,
      "outputs": [
        {
          "output_type": "stream",
          "name": "stdout",
          "text": [
            "sub_package_1/sub1_module_1\n",
            "sub_package_1/sub1_module_2\n",
            "sub_package_2/sub2_module_1\n",
            "sub_package_2/sub2_module_2\n",
            "sub_package_3/sub3_module_1\n",
            "sub_package_3/sub3_module_2\n"
          ]
        }
      ]
    },
    {
      "cell_type": "markdown",
      "metadata": {
        "id": "H5rv_z4nZg3v"
      },
      "source": [
        "\n",
        "\n",
        "---\n",
        "\n"
      ]
    }
  ]
}