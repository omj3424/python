{
  "nbformat": 4,
  "nbformat_minor": 0,
  "metadata": {
    "colab": {
      "provenance": [],
      "toc_visible": true,
      "include_colab_link": true
    },
    "kernelspec": {
      "name": "python3",
      "display_name": "Python 3"
    }
  },
  "cells": [
    {
      "cell_type": "markdown",
      "metadata": {
        "id": "view-in-github",
        "colab_type": "text"
      },
      "source": [
        "<a href=\"https://colab.research.google.com/github/omj3424/python/blob/main/_07_%ED%95%A8%EC%88%98.ipynb\" target=\"_parent\"><img src=\"https://colab.research.google.com/assets/colab-badge.svg\" alt=\"Open In Colab\"/></a>"
      ]
    },
    {
      "cell_type": "markdown",
      "metadata": {
        "id": "bg5ZXMV2sn1M"
      },
      "source": [
        "# 함수(Function)"
      ]
    },
    {
      "cell_type": "markdown",
      "metadata": {
        "id": "Lj_iZPKnCRP0"
      },
      "source": [
        "\n",
        "\n",
        "---\n",
        "\n"
      ]
    },
    {
      "cell_type": "markdown",
      "metadata": {
        "id": "zXbENjlMCrkU"
      },
      "source": [
        "## 함수 기본\n",
        "\n",
        "* 특정 값 X를 인자로 받고, 결과값을 반환: Y = f(X)\n",
        "* 함수가 필요할 때마다 호출 가능\n",
        "* 논리적인 단위로 분할 가능\n",
        "* 코드의 캡슐화(Capsulation)\n",
        "* 중복되는 소스코드를 최소화\n",
        "* 소스코드의 재사용성을 높임"
      ]
    },
    {
      "cell_type": "markdown",
      "metadata": {
        "id": "GWTyreZRzzmW"
      },
      "source": [
        "### 함수 선언\n",
        "\n",
        "* 함수 선언 문법\n",
        "```\n",
        "def 함수명(매개변수):\n",
        "  <수행문>\n",
        "  return <반환값>\n",
        "```\n",
        "* def: 정의(definition)의 줄임으로 사용\n",
        "* 함수명: 사용자가 임의로 지정\n",
        "* 함수명 컨벤션(convention)\n",
        " - 짧고 명료한 이름\n",
        " - 소문자로 입력\n",
        " - 띄어쓰기는 '_' 기호 사용 (hello_world)\n",
        " - 동사와 명사를 함께 사용 (find_name)\n",
        "* 매개변수(parameter): 함수에서 입력값으로 사용하는 변수\n",
        "* 반환값: 함수에서 반환할 결과값 지정\n"
      ]
    },
    {
      "cell_type": "markdown",
      "metadata": {
        "id": "qQc_0nwV1YyE"
      },
      "source": [
        "### 매개변수와 반환값이 없는 함수\n",
        "\n",
        "* 함수에 매개변수와 반환값이 없이 사용 가능\n",
        "* 함수를 호출하면 함수의 수행문이 실행"
      ]
    },
    {
      "cell_type": "code",
      "metadata": {
        "id": "VIauKM25w6Aw",
        "outputId": "cb481049-13fd-43c4-e4aa-39de9e297a3d",
        "colab": {
          "base_uri": "https://localhost:8080/"
        }
      },
      "source": [
        "def hello():\n",
        "  print(\"Hello Python\")\n",
        "\n",
        "hello()"
      ],
      "execution_count": null,
      "outputs": [
        {
          "output_type": "stream",
          "name": "stdout",
          "text": [
            "Hello Python\n"
          ]
        }
      ]
    },
    {
      "cell_type": "markdown",
      "metadata": {
        "id": "eeldN6Kq20h4"
      },
      "source": [
        "### 매개변수만 있는 함수\n",
        "\n",
        "* 문자열 매개변수를 사용한 함수"
      ]
    },
    {
      "cell_type": "code",
      "metadata": {
        "id": "DhVqlr5f24Px",
        "outputId": "4445d39a-2e2c-49f1-c242-0d31102b6609",
        "colab": {
          "base_uri": "https://localhost:8080/"
        }
      },
      "source": [
        "def hello(string):\n",
        "  print(\"Hello\", string)\n",
        "\n",
        "hello(\"Python\")"
      ],
      "execution_count": null,
      "outputs": [
        {
          "output_type": "stream",
          "name": "stdout",
          "text": [
            "Hello Python\n"
          ]
        }
      ]
    },
    {
      "cell_type": "markdown",
      "metadata": {
        "id": "mmzbeJNq3uMA"
      },
      "source": [
        "### 반환 값만 있는 함수\n",
        "\n",
        "* 문자열 반환 값을 사용한 함수"
      ]
    },
    {
      "cell_type": "code",
      "metadata": {
        "id": "hv7QPvAN33bB",
        "outputId": "e7a64f57-f562-411f-efa2-00cbabed02e1",
        "colab": {
          "base_uri": "https://localhost:8080/",
          "height": 35
        }
      },
      "source": [
        "def hello():\n",
        "  return \"Hello Python\"\n",
        "\n",
        "hello()"
      ],
      "execution_count": null,
      "outputs": [
        {
          "output_type": "execute_result",
          "data": {
            "text/plain": [
              "'Hello Python'"
            ],
            "application/vnd.google.colaboratory.intrinsic+json": {
              "type": "string"
            }
          },
          "metadata": {},
          "execution_count": 5
        }
      ]
    },
    {
      "cell_type": "markdown",
      "metadata": {
        "id": "KY_pW4pZ4CbM"
      },
      "source": [
        "### 매개변수와 반환 값이 있는 함수\n",
        "\n",
        "* 정수형 매개변수와 반환 값을 사용한 함수"
      ]
    },
    {
      "cell_type": "code",
      "metadata": {
        "id": "c3aDaQLX4Hwf",
        "outputId": "3b5cf92f-1593-4819-e229-820e49521647",
        "colab": {
          "base_uri": "https://localhost:8080/"
        }
      },
      "source": [
        "def square(num):\n",
        "  return num * num\n",
        "\n",
        "square(5)"
      ],
      "execution_count": null,
      "outputs": [
        {
          "output_type": "execute_result",
          "data": {
            "text/plain": [
              "25"
            ]
          },
          "metadata": {},
          "execution_count": 6
        }
      ]
    },
    {
      "cell_type": "markdown",
      "metadata": {
        "id": "BY9mQXbf4TRK"
      },
      "source": [
        "### 매개변수가 여러개 있는 함수\n",
        "\n",
        "* 정수형 매개변수 여러개를 사용한 함수\n",
        "* 매개변수를 지정하여 호출 가능"
      ]
    },
    {
      "cell_type": "code",
      "metadata": {
        "id": "DBc8hUNE4YKr",
        "outputId": "a36d4916-991b-432d-a995-c6976e500d36",
        "colab": {
          "base_uri": "https://localhost:8080/"
        }
      },
      "source": [
        "def add(n1, n2):\n",
        "  return n1 + n2\n",
        "\n",
        "print(add(5, 8))\n",
        "print(add(n2 = 5, n1 = 8))"
      ],
      "execution_count": null,
      "outputs": [
        {
          "output_type": "stream",
          "name": "stdout",
          "text": [
            "13\n",
            "13\n"
          ]
        }
      ]
    },
    {
      "cell_type": "markdown",
      "metadata": {
        "id": "meUZXmUR4knx"
      },
      "source": [
        "### 키워드 매개변수\n",
        "\n",
        "* 함수의 매개변수를 변수명을 지정하여 호출 가능"
      ]
    },
    {
      "cell_type": "code",
      "metadata": {
        "id": "k0FipvNp4pXl",
        "outputId": "e5c33cb4-8332-4066-e86e-a2b0dcbaf122",
        "colab": {
          "base_uri": "https://localhost:8080/"
        }
      },
      "source": [
        "def add(n1, n2):\n",
        "  return n1 + n2\n",
        "\n",
        "print(add(n2 = 5, n1 = 8))"
      ],
      "execution_count": null,
      "outputs": [
        {
          "output_type": "stream",
          "name": "stdout",
          "text": [
            "13\n"
          ]
        }
      ]
    },
    {
      "cell_type": "markdown",
      "metadata": {
        "id": "3f_8Jxyh5EKA"
      },
      "source": [
        "### 가변 매개변수\n",
        "\n",
        "* 매개변수가 몇 개인지 알 수 없을 때 사용\n",
        "* 매개변수 앞에 '*'을 표시\n",
        "\n",
        "타입을 알아볼 때: print(type(args))"
      ]
    },
    {
      "cell_type": "code",
      "metadata": {
        "id": "uVpBRKq65JLe",
        "outputId": "61ce99a8-c38b-4ff0-d66e-5fe148d206d5",
        "colab": {
          "base_uri": "https://localhost:8080/"
        }
      },
      "source": [
        "def sum(*args):\n",
        "  result = 0\n",
        "  for i in args:\n",
        "    result = result + i\n",
        "  return result\n",
        "\n",
        "print(sum(1, 2, 3))\n",
        "print(sum(1, 2, 3, 4, 5))"
      ],
      "execution_count": null,
      "outputs": [
        {
          "output_type": "stream",
          "name": "stdout",
          "text": [
            "6\n",
            "15\n"
          ]
        }
      ]
    },
    {
      "cell_type": "markdown",
      "metadata": {
        "id": "czo-wmdL5YRR"
      },
      "source": [
        "### 가변 키워드 매개변수\n",
        "\n",
        "* 매개변수의 이름을 따로 지정하지 않고 사용\n",
        "* 매개변수 앞에 '**'을 표시"
      ]
    },
    {
      "cell_type": "code",
      "metadata": {
        "id": "jcPIBpWF5d9N",
        "outputId": "3ad0d3c5-ef89-47ea-b7d8-dd64b4ae37f0",
        "colab": {
          "base_uri": "https://localhost:8080/"
        }
      },
      "source": [
        "def print_kwargs(**kwargs):\n",
        "  print(kwargs)\n",
        "\n",
        "print_kwargs(n1 = 5, n2 = 8)\n",
        "print_kwargs(id = \"Suan\", pw = \"1234\")"
      ],
      "execution_count": null,
      "outputs": [
        {
          "output_type": "stream",
          "name": "stdout",
          "text": [
            "{'n1': 5, 'n2': 8}\n",
            "{'id': 'Suan', 'pw': '1234'}\n"
          ]
        }
      ]
    },
    {
      "cell_type": "markdown",
      "metadata": {
        "id": "BcE5o1GR5ugB"
      },
      "source": [
        "### 초기값 매개변수\n",
        "\n",
        "* 매개변수에 초기값을 설정하여 사용\n",
        "* 함수에 매개변수를 사용하지 않을 때 초기값을 사용"
      ]
    },
    {
      "cell_type": "code",
      "metadata": {
        "id": "Wdsz0tcZ50s_",
        "outputId": "ff4adf7a-e275-4b91-c617-a3a617565f2b",
        "colab": {
          "base_uri": "https://localhost:8080/"
        }
      },
      "source": [
        "def power(b = 2, n = 2):\n",
        "  return pow(b, n)\n",
        "\n",
        "print(power())\n",
        "print(power(3))\n",
        "print(power(5, 2))\n",
        "print(power(n = 3))"
      ],
      "execution_count": null,
      "outputs": [
        {
          "output_type": "stream",
          "name": "stdout",
          "text": [
            "4\n",
            "9\n",
            "25\n",
            "8\n"
          ]
        }
      ]
    },
    {
      "cell_type": "markdown",
      "metadata": {
        "id": "zEmGFAyv6ARs"
      },
      "source": [
        "### 여러 반환 값이 있는 함수\n",
        "\n",
        "* 함수의 반환값은 하나\n",
        "* 여러 반환값을 사용할 경우 튜플 형태로 반환"
      ]
    },
    {
      "cell_type": "code",
      "metadata": {
        "id": "4uA_PmQR6FW5",
        "outputId": "69c15ba4-bf47-432f-f125-c8a7be5026b6",
        "colab": {
          "base_uri": "https://localhost:8080/"
        }
      },
      "source": [
        "def plus_and_minus(n1, n2):\n",
        "  return n1 + n2, n1 - n2\n",
        "\n",
        "result = plus_and_minus(8, 5)\n",
        "print(result)\n",
        "\n",
        "result1, result2 = plus_and_minus(8, 5)\n",
        "print(result1, result2)"
      ],
      "execution_count": null,
      "outputs": [
        {
          "output_type": "stream",
          "name": "stdout",
          "text": [
            "(13, 3)\n",
            "13 3\n"
          ]
        }
      ]
    },
    {
      "cell_type": "markdown",
      "metadata": {
        "id": "XM8NFJC96cX7"
      },
      "source": [
        "### [Lab] 계산기 함수\n",
        "\n",
        "* 두 수에 대해서 덧셈, 뺄셈, 곱셈, 나눗셈을 수행하는 함수"
      ]
    },
    {
      "cell_type": "code",
      "metadata": {
        "id": "XDXeVHIJ6gpm",
        "outputId": "26108d70-569d-4882-9c3a-29e8c73b1ee0",
        "colab": {
          "base_uri": "https://localhost:8080/"
        }
      },
      "source": [
        "def calc(op, n1, n2):\n",
        "  result = 0\n",
        "  if op == '+':\n",
        "    result = n1 + n2\n",
        "  elif op == '-':\n",
        "    result = n1 - n2\n",
        "  elif op == '*':\n",
        "    result = n1 * n2\n",
        "  elif op == '/':\n",
        "    result = n1 / n2\n",
        "\n",
        "  return result\n",
        "\n",
        "print(calc('+', 8, 5))\n",
        "print(calc('*', 8, 5))"
      ],
      "execution_count": null,
      "outputs": [
        {
          "output_type": "stream",
          "name": "stdout",
          "text": [
            "13\n",
            "40\n"
          ]
        }
      ]
    },
    {
      "cell_type": "markdown",
      "metadata": {
        "id": "GXfPMgdV696x"
      },
      "source": [
        "### [Lab] 가변 매개변수의 평균값 계산\n",
        "\n",
        "* 가변 매개변수로 들어오는 모든 수의 평균값 계산"
      ]
    },
    {
      "cell_type": "code",
      "metadata": {
        "id": "xgVFwpIm7CPY",
        "outputId": "75ab714f-9510-4e46-ac96-c5d3f01c2fb9",
        "colab": {
          "base_uri": "https://localhost:8080/"
        }
      },
      "source": [
        "def avg(*args):\n",
        "  sum = 0\n",
        "  for i in args:\n",
        "    sum += i\n",
        "  return (sum / len(args))\n",
        "\n",
        "print(avg(1, 2, 3, 4, 5))"
      ],
      "execution_count": null,
      "outputs": [
        {
          "output_type": "stream",
          "name": "stdout",
          "text": [
            "3.0\n"
          ]
        }
      ]
    },
    {
      "cell_type": "markdown",
      "metadata": {
        "id": "G8OTXx4aw7mY"
      },
      "source": [
        "\n",
        "\n",
        "---\n",
        "\n"
      ]
    },
    {
      "cell_type": "markdown",
      "metadata": {
        "id": "4y7j6wwPw9zd"
      },
      "source": [
        "## 변수의 유효범위\n"
      ]
    },
    {
      "cell_type": "markdown",
      "metadata": {
        "id": "UjzGwc9D7b9d"
      },
      "source": [
        "### 유효 범위\n",
        "\n",
        "* 변수는 유효한 범위가 존재\n",
        "* 함수 안에서 선언된 변수는 함수 내부에서 유효함"
      ]
    },
    {
      "cell_type": "code",
      "metadata": {
        "id": "vvew4Dhq7gYv",
        "outputId": "ab8ac9df-ab34-455f-d7f4-dfc7ba09c02a",
        "colab": {
          "base_uri": "https://localhost:8080/"
        }
      },
      "source": [
        "def var_scope(a):\n",
        "  a = a + 1\n",
        "\n",
        "a = 10\n",
        "var_scope(a)\n",
        "print(a)"
      ],
      "execution_count": null,
      "outputs": [
        {
          "output_type": "stream",
          "name": "stdout",
          "text": [
            "10\n"
          ]
        }
      ]
    },
    {
      "cell_type": "markdown",
      "metadata": {
        "id": "7O3U3dYT7nXD"
      },
      "source": [
        "### 변수의 종류\n",
        "\n",
        "* 지역 변수: 한정된 지역에서만 사용되는 변수\n",
        "* 전역 변수: 프로그램 전체에서 사용되는 변수"
      ]
    },
    {
      "cell_type": "code",
      "metadata": {
        "id": "dhTOG0Uj7tOL",
        "outputId": "c95a5c6a-f124-4907-b382-801f6bba0eaf",
        "colab": {
          "base_uri": "https://localhost:8080/"
        }
      },
      "source": [
        "a = 10\n",
        "def func1():\n",
        "  a = 20\n",
        "  print(a)\n",
        "\n",
        "def func2():\n",
        "  print(a)\n",
        "\n",
        "func1()\n",
        "func2()"
      ],
      "execution_count": null,
      "outputs": [
        {
          "output_type": "stream",
          "name": "stdout",
          "text": [
            "20\n",
            "10\n"
          ]
        }
      ]
    },
    {
      "cell_type": "markdown",
      "metadata": {
        "id": "3-OF8own71vk"
      },
      "source": [
        "### 전역 변수 사용 global\n",
        "\n",
        "* 함수 내부에서 전역 변수를 사용하기 위한 `global` 키워드"
      ]
    },
    {
      "cell_type": "code",
      "metadata": {
        "id": "J_P_WGSr75jp",
        "outputId": "246b2499-0e8a-4554-cd84-fe1adaa20a0d",
        "colab": {
          "base_uri": "https://localhost:8080/"
        }
      },
      "source": [
        "a = 10\n",
        "def func1():\n",
        "  global a\n",
        "  a = 20\n",
        "  print(a)\n",
        "\n",
        "def func2():\n",
        "  print(a)\n",
        "\n",
        "func1()\n",
        "func2()"
      ],
      "execution_count": null,
      "outputs": [
        {
          "output_type": "stream",
          "name": "stdout",
          "text": [
            "20\n",
            "20\n"
          ]
        }
      ]
    },
    {
      "cell_type": "markdown",
      "metadata": {
        "id": "NxjgnIKoxGkH"
      },
      "source": [
        "\n",
        "\n",
        "---\n",
        "\n"
      ]
    },
    {
      "cell_type": "markdown",
      "metadata": {
        "id": "8x-oWtbBxCpE"
      },
      "source": [
        "## 함수 심화"
      ]
    },
    {
      "cell_type": "markdown",
      "metadata": {
        "id": "GbFr5qM78B41"
      },
      "source": [
        "### 내부 함수(Nested Function)\n",
        "\n",
        "* 함수 안에 함수가 존재\n",
        "* 내부 함수는 외부에서 호출 불가"
      ]
    },
    {
      "cell_type": "code",
      "metadata": {
        "id": "6aBHDw7x8Gr5",
        "outputId": "38cce7b5-359f-465e-d38d-0edcf324e635",
        "colab": {
          "base_uri": "https://localhost:8080/"
        }
      },
      "source": [
        "def func1(n1, n2):\n",
        "  def func2(num1, num2):\n",
        "    return num1 + num2\n",
        "  return func2(n1, n2)\n",
        "\n",
        "print(func1(5, 8))"
      ],
      "execution_count": null,
      "outputs": [
        {
          "output_type": "stream",
          "name": "stdout",
          "text": [
            "13\n"
          ]
        }
      ]
    },
    {
      "cell_type": "markdown",
      "metadata": {
        "id": "RMlNesEi87cD"
      },
      "source": [
        "### 재귀 함수(Recursive Function)\n",
        "\n",
        "* 함수가 자기 자신을 다시 부르는 함수\n",
        "* `count()` 함수 내부에서 `count()` 함수를 호출\n",
        "* 재귀적으로 카운트 수를 출력"
      ]
    },
    {
      "cell_type": "code",
      "metadata": {
        "id": "ATwXBqDH9Fuk",
        "outputId": "865f2656-5d7e-464f-c93d-e907ce33c075",
        "colab": {
          "base_uri": "https://localhost:8080/"
        }
      },
      "source": [
        "def count(n):\n",
        "  if n >= 1:\n",
        "    print(n, end=' ')\n",
        "    count(n - 1)\n",
        "  else:\n",
        "    return\n",
        "\n",
        "count(10)"
      ],
      "execution_count": null,
      "outputs": [
        {
          "output_type": "stream",
          "name": "stdout",
          "text": [
            "10 9 8 7 6 5 4 3 2 1 "
          ]
        }
      ]
    },
    {
      "cell_type": "markdown",
      "metadata": {
        "id": "8GTG0ukpIfRm"
      },
      "source": [
        "#### [Lab] 재귀 함수를 이용한 합계\n",
        "\n",
        "* `sum()` 함수 내부에서 `sum()` 함수를 호출\n",
        "* 재귀적으로 합계를 계산"
      ]
    },
    {
      "cell_type": "code",
      "metadata": {
        "id": "5oIubHWwHj_j",
        "outputId": "b4077c58-2738-4e85-f6cf-b2756718a495",
        "colab": {
          "base_uri": "https://localhost:8080/"
        }
      },
      "source": [
        "def sum(n):\n",
        "  if n == 1:\n",
        "    return 1\n",
        "  else:\n",
        "    return n + sum(n - 1)\n",
        "\n",
        "print(sum(10))\n",
        "print(sum(100))"
      ],
      "execution_count": null,
      "outputs": [
        {
          "output_type": "stream",
          "name": "stdout",
          "text": [
            "55\n",
            "5050\n"
          ]
        }
      ]
    },
    {
      "cell_type": "markdown",
      "metadata": {
        "id": "fB5LHNGv9v_U"
      },
      "source": [
        "#### [Lab] 팩토리얼 함수(Factorial Function)\n",
        "\n",
        "* 팩토리얼(factorial) 함수는 대표적인 재귀 함수\n",
        "* 팩토리얼 함수: $n!=1 \\times 2 \\times 3 \\dots (n-2) \\times (n-1) \\times n = n! = n \\times (n-1)!$"
      ]
    },
    {
      "cell_type": "code",
      "metadata": {
        "id": "Mh_3nSfC9ggl",
        "outputId": "122853c1-4fe1-4afc-caa2-42be140f8c19",
        "colab": {
          "base_uri": "https://localhost:8080/"
        }
      },
      "source": [
        "def factorial(n):\n",
        "  if n == 1:\n",
        "    return 1\n",
        "  else:\n",
        "    return n * factorial(n - 1)\n",
        "\n",
        "print(factorial(3))\n",
        "print(factorial(5))\n",
        "print(factorial(10))"
      ],
      "execution_count": null,
      "outputs": [
        {
          "output_type": "stream",
          "name": "stdout",
          "text": [
            "6\n",
            "120\n",
            "3628800\n"
          ]
        }
      ]
    },
    {
      "cell_type": "markdown",
      "metadata": {
        "id": "zxfnzzyh_CVn"
      },
      "source": [
        "### 람다 함수(Lambda Function)\n",
        "\n",
        "* 함수를 한 줄로 간결하게 만들어 사용"
      ]
    },
    {
      "cell_type": "code",
      "metadata": {
        "id": "Dm05soHF-7O1",
        "outputId": "24e97e17-2715-47eb-8e09-a56181a653e2",
        "colab": {
          "base_uri": "https://localhost:8080/"
        }
      },
      "source": [
        "def add(n1, n2):\n",
        "  return n1 + n2\n",
        "\n",
        "print(add(5, 8))\n",
        "\n",
        "add2 = lambda n1, n2 : n1+ n2\n",
        "print(add2(5, 8))"
      ],
      "execution_count": null,
      "outputs": [
        {
          "output_type": "stream",
          "name": "stdout",
          "text": [
            "13\n",
            "13\n"
          ]
        }
      ]
    },
    {
      "cell_type": "markdown",
      "metadata": {
        "id": "Rwi3kI22_tMu"
      },
      "source": [
        "#### map()\n",
        "\n",
        "* `map()`: built-in 함수로 list 나 dictionary 와 같은 iterable 한 데이터를 인자로 받아 list 안의 개별 item을 함수의 인자로 전달하여 결과를 list로 형태로 반환해 주는 함수\n",
        "* 람다 함수와 `map()` 함수를 이용한 리스트 계산"
      ]
    },
    {
      "cell_type": "code",
      "metadata": {
        "id": "1TajyYRT_Sld",
        "outputId": "db9795bf-c850-4def-8872-0706fb2dfc78",
        "colab": {
          "base_uri": "https://localhost:8080/"
        }
      },
      "source": [
        "li = [1, 2, 3, 4, 5]\n",
        "square = lambda n : n * n\n",
        "li = list(map(square, li))\n",
        "print(li)"
      ],
      "execution_count": null,
      "outputs": [
        {
          "output_type": "stream",
          "name": "stdout",
          "text": [
            "[1, 4, 9, 16, 25]\n"
          ]
        }
      ]
    },
    {
      "cell_type": "code",
      "source": [
        "#연습\n",
        "li = [1, 2, 3, 4, 5]\n",
        "[n * n for n in li]"
      ],
      "metadata": {
        "id": "vod3PD1wmkOe",
        "outputId": "135c5a9c-4c5c-4ec5-e926-fd2543d8b356",
        "colab": {
          "base_uri": "https://localhost:8080/"
        }
      },
      "execution_count": 74,
      "outputs": [
        {
          "output_type": "execute_result",
          "data": {
            "text/plain": [
              "[1, 4, 9, 16, 25]"
            ]
          },
          "metadata": {},
          "execution_count": 74
        }
      ]
    },
    {
      "cell_type": "code",
      "metadata": {
        "id": "tSiiIydTABWe",
        "outputId": "8dad613d-7aa8-4ff6-eda9-dcbdf6b6fb50",
        "colab": {
          "base_uri": "https://localhost:8080/"
        }
      },
      "source": [
        "li_1 = [1, 2, 3, 4, 5]\n",
        "li_2 = [6, 7, 8, 9, 10]\n",
        "li = list(map(lambda n_1, n_2 : n_1 + n_2, li_1, li_2))\n",
        "print(li)"
      ],
      "execution_count": null,
      "outputs": [
        {
          "output_type": "stream",
          "name": "stdout",
          "text": [
            "[7, 9, 11, 13, 15]\n"
          ]
        }
      ]
    },
    {
      "cell_type": "code",
      "source": [
        "#연습\n",
        "li_1 = [1, 2, 3, 4, 5]\n",
        "li_2 = [6, 7, 8, 9, 10]\n",
        "[n_1 + n_2 for n_1, n_2 in zip(li_1, li_2)]"
      ],
      "metadata": {
        "id": "HeXZUVSomkdv",
        "outputId": "8968d193-7ed4-4f6c-e304-ed02df0e5475",
        "colab": {
          "base_uri": "https://localhost:8080/"
        }
      },
      "execution_count": 75,
      "outputs": [
        {
          "output_type": "execute_result",
          "data": {
            "text/plain": [
              "[7, 9, 11, 13, 15]"
            ]
          },
          "metadata": {},
          "execution_count": 75
        }
      ]
    },
    {
      "cell_type": "markdown",
      "metadata": {
        "id": "GjjDPmSgGST7"
      },
      "source": [
        "### filter()\n",
        "\n",
        "* `filter()` 함수: iterable 한 데이터를 인자로 개별 item을 특정 조건에 해당하는 값으로만 필터링\n",
        "* 람다 함수와 `filter()` 함수를 이용한 리스트 필터링"
      ]
    },
    {
      "cell_type": "code",
      "metadata": {
        "id": "Uplpmb0kGMVt",
        "outputId": "f622045f-6336-41a8-bc9e-dcb22fd4ae62",
        "colab": {
          "base_uri": "https://localhost:8080/"
        }
      },
      "source": [
        "li = list(range(10))\n",
        "print(li)\n",
        "evens = filter(lambda n : n % 2 is 0, li)\n",
        "print(list(evens))"
      ],
      "execution_count": null,
      "outputs": [
        {
          "output_type": "stream",
          "name": "stdout",
          "text": [
            "[0, 1, 2, 3, 4, 5, 6, 7, 8, 9]\n",
            "[0, 2, 4, 6, 8]\n"
          ]
        },
        {
          "output_type": "stream",
          "name": "stderr",
          "text": [
            "<>:3: SyntaxWarning: \"is\" with a literal. Did you mean \"==\"?\n",
            "<>:3: SyntaxWarning: \"is\" with a literal. Did you mean \"==\"?\n",
            "<ipython-input-39-8b9594ec64f7>:3: SyntaxWarning: \"is\" with a literal. Did you mean \"==\"?\n",
            "  evens = filter(lambda n : n % 2 is 0, li)\n"
          ]
        }
      ]
    },
    {
      "cell_type": "markdown",
      "metadata": {
        "id": "upgP4WxEG347"
      },
      "source": [
        "### reduce()\n",
        "\n",
        "* reduce() 함수: iterable 한 데이터를 인자로 받아 개별 item을 축약하여 하나의 값으로 만들어 가는 과정\n",
        "* 람다 함수와 reduce() 함수를 이용한 리스트 계산"
      ]
    },
    {
      "cell_type": "code",
      "metadata": {
        "id": "7-O3VyyYGexM",
        "outputId": "2f9d2772-f24c-480b-fc0f-3102680a0820",
        "colab": {
          "base_uri": "https://localhost:8080/"
        }
      },
      "source": [
        "import functools\n",
        "li = list(range(10))\n",
        "print(li)\n",
        "sum = functools.reduce(lambda x, y: x + y, li)\n",
        "print(sum)\n",
        "len = functools.reduce(lambda x, y: x + 1, li, 0)\n",
        "print(len)\n",
        "max = functools.reduce(lambda x, y: x if x > y else y, li)\n",
        "print(max)"
      ],
      "execution_count": null,
      "outputs": [
        {
          "output_type": "stream",
          "name": "stdout",
          "text": [
            "[0, 1, 2, 3, 4, 5, 6, 7, 8, 9]\n",
            "45\n",
            "10\n",
            "9\n"
          ]
        }
      ]
    },
    {
      "cell_type": "markdown",
      "metadata": {
        "id": "QJg6wYdSHKFh"
      },
      "source": [
        "## 제너레이터(generator)와 yield\n",
        "\n",
        "* 함수 안에서 yield를 사용하면 제너레이터\n",
        "* yield: 함수를 끝내지 않고 값을 계속 반환"
      ]
    },
    {
      "cell_type": "code",
      "metadata": {
        "id": "iI142ekSHH5z",
        "outputId": "68cfe72f-7b5b-4dd1-8761-d2fa806a295b",
        "colab": {
          "base_uri": "https://localhost:8080/"
        }
      },
      "source": [
        "def gen():\n",
        "  yield 1\n",
        "  yield 2\n",
        "  yield 3\n",
        "\n",
        "print(gen())\n",
        "print(list(gen()))"
      ],
      "execution_count": null,
      "outputs": [
        {
          "output_type": "stream",
          "name": "stdout",
          "text": [
            "<generator object gen at 0x7a97dd0aa0a0>\n",
            "[1, 2, 3]\n"
          ]
        }
      ]
    },
    {
      "cell_type": "code",
      "metadata": {
        "id": "aVpEaM_jHX0_",
        "outputId": "6df9c9cf-03a2-4568-a90d-c0300e09c447",
        "colab": {
          "base_uri": "https://localhost:8080/"
        }
      },
      "source": [
        "for i in gen():\n",
        "  print(i)"
      ],
      "execution_count": null,
      "outputs": [
        {
          "output_type": "stream",
          "name": "stdout",
          "text": [
            "1\n",
            "2\n",
            "3\n"
          ]
        }
      ]
    },
    {
      "cell_type": "code",
      "metadata": {
        "id": "phpfTn9gHeUy",
        "outputId": "89e6d117-6cc5-4d23-c3a0-03406b3fdad7",
        "colab": {
          "base_uri": "https://localhost:8080/"
        }
      },
      "source": [
        "g = gen()\n",
        "print(next(g))\n",
        "print(next(g))\n",
        "print(next(g))"
      ],
      "execution_count": null,
      "outputs": [
        {
          "output_type": "stream",
          "name": "stdout",
          "text": [
            "1\n",
            "2\n",
            "3\n"
          ]
        }
      ]
    },
    {
      "cell_type": "markdown",
      "metadata": {
        "id": "vCwxB_lyIv5D"
      },
      "source": [
        "### [Lab] 짝수만 생성하는 제너레이터\n",
        "\n",
        "* 0 ~ n개의 숫자 중에서 짝수만 생성하는 제너레이터 함수 생성"
      ]
    },
    {
      "cell_type": "code",
      "metadata": {
        "id": "U3T8U0tpItDl",
        "outputId": "d0fef32b-2d0a-4ae6-a2b6-b684404f5173",
        "colab": {
          "base_uri": "https://localhost:8080/"
        }
      },
      "source": [
        "def gen_even(n):\n",
        "  for i in range(n):\n",
        "    if i % 2 == 0:\n",
        "      yield i\n",
        "\n",
        "for i in gen_even(10):\n",
        "  print(i)"
      ],
      "execution_count": null,
      "outputs": [
        {
          "output_type": "stream",
          "name": "stdout",
          "text": [
            "0\n",
            "2\n",
            "4\n",
            "6\n",
            "8\n"
          ]
        }
      ]
    }
  ]
}