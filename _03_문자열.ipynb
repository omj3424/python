{
  "nbformat": 4,
  "nbformat_minor": 0,
  "metadata": {
    "colab": {
      "provenance": [],
      "toc_visible": true,
      "include_colab_link": true
    },
    "kernelspec": {
      "name": "python3",
      "display_name": "Python 3"
    }
  },
  "cells": [
    {
      "cell_type": "markdown",
      "metadata": {
        "id": "view-in-github",
        "colab_type": "text"
      },
      "source": [
        "<a href=\"https://colab.research.google.com/github/omj3424/python/blob/main/_03_%EB%AC%B8%EC%9E%90%EC%97%B4.ipynb\" target=\"_parent\"><img src=\"https://colab.research.google.com/assets/colab-badge.svg\" alt=\"Open In Colab\"/></a>"
      ]
    },
    {
      "cell_type": "markdown",
      "metadata": {
        "id": "bg5ZXMV2sn1M"
      },
      "source": [
        "# 문자열(String)"
      ]
    },
    {
      "cell_type": "markdown",
      "metadata": {
        "id": "Lj_iZPKnCRP0"
      },
      "source": [
        "\n",
        "\n",
        "---\n",
        "\n"
      ]
    },
    {
      "cell_type": "markdown",
      "metadata": {
        "id": "E3Cd7WwAxDxm"
      },
      "source": [
        "## 문자열 정의\n",
        "\n",
        "\n",
        "*   문자, 단어 등으로 구성된 문자들의 집합\n",
        "*   시퀀스 자료형(sequence data type)\n",
        "\n",
        "문자 하나하나가 연속된 형태로 나타나는.. 문자열..\n",
        "\n"
      ]
    },
    {
      "cell_type": "code",
      "metadata": {
        "id": "YLGtw6y5iHPK",
        "colab": {
          "base_uri": "https://localhost:8080/"
        },
        "outputId": "a505a89b-a940-493f-9eac-b0cdd93cdf1e"
      },
      "source": [
        "s = \"String\"\n",
        "print(s)\n",
        "print(s[0])\n",
        "print(s[1])\n",
        "print(s[2])\n",
        "print(s[3])\n",
        "print(s[4])\n",
        "print(s[5])"
      ],
      "execution_count": null,
      "outputs": [
        {
          "output_type": "stream",
          "name": "stdout",
          "text": [
            "String\n",
            "S\n",
            "t\n",
            "r\n",
            "i\n",
            "n\n",
            "g\n"
          ]
        }
      ]
    },
    {
      "cell_type": "code",
      "metadata": {
        "id": "1t41e-64iKjc",
        "colab": {
          "base_uri": "https://localhost:8080/"
        },
        "outputId": "4dbde930-8a81-478a-ed8c-cc7b6334c732"
      },
      "source": [
        "s = \"문자열\"\n",
        "print(s)\n",
        "print(s[0])\n",
        "print(s[1])\n",
        "print(s[2])"
      ],
      "execution_count": null,
      "outputs": [
        {
          "output_type": "stream",
          "name": "stdout",
          "text": [
            "문자열\n",
            "문\n",
            "자\n",
            "열\n"
          ]
        }
      ]
    },
    {
      "cell_type": "markdown",
      "metadata": {
        "id": "aKsMBDZohTu4"
      },
      "source": [
        "## 문자열 생성\n",
        "\n",
        "* 파이썬에서 문자열은 작은따옴표(') 또는 큰 따옴표(\")로 표현\n"
      ]
    },
    {
      "cell_type": "code",
      "metadata": {
        "id": "qLh1E-1_hxR_",
        "colab": {
          "base_uri": "https://localhost:8080/"
        },
        "outputId": "adf21b8d-13ee-4c2c-97f4-bb537a8f1736"
      },
      "source": [
        "print('Hello')\n",
        "print(\"파이썬은 재미있다.\")\n",
        "print('''파이썬은 심플하다.''')\n",
        "print(\"\"\"파이썬은 문자열 처리가 뛰어나다\"\"\")"
      ],
      "execution_count": null,
      "outputs": [
        {
          "output_type": "stream",
          "name": "stdout",
          "text": [
            "Hello\n",
            "파이썬은 재미있다.\n",
            "파이썬은 심플하다.\n",
            "파이썬은 문자열 처리가 뛰어나다\n"
          ]
        }
      ]
    },
    {
      "cell_type": "markdown",
      "metadata": {
        "id": "z250OOXBirgb"
      },
      "source": [
        "### 따옴표가 있는 문자열 생성\n",
        "\n",
        "* 문자열에 작은따옴표가 있을 경우, 큰따옴표로 둘러싸서 표현\n",
        "* 문자열에 큰따옴표가 있을 경우, 작은따옴표로 둘러싸서 표현\n",
        "* 이스케이프 코드 \\를 이용하여 작은따옴표(‘)와 큰따옴표(“)를 문자열에 포함"
      ]
    },
    {
      "cell_type": "code",
      "metadata": {
        "id": "JYNKaVT0i0aF",
        "colab": {
          "base_uri": "https://localhost:8080/"
        },
        "outputId": "e9769d56-3aa1-4279-9517-4d719384dbb5"
      },
      "source": [
        "string = \"Python's bulit-in string classes\"\n",
        "print(string)\n",
        "string = '모두가 \"파이썬은 매우 쉽다.\"라고 말한다.'\n",
        "print(string)\n",
        "string = 'Python\\'s bulit-in string classes'\n",
        "print(string)\n",
        "string = \"모두가 \\\"파이썬은 매우 쉽다.\\\"라고 말한다.\"\n",
        "print(string)"
      ],
      "execution_count": null,
      "outputs": [
        {
          "output_type": "stream",
          "name": "stdout",
          "text": [
            "Python's bulit-in string classes\n",
            "모두가 \"파이썬은 매우 쉽다.\"라고 말한다.\n",
            "Python's bulit-in string classes\n",
            "모두가 \"파이썬은 매우 쉽다.\"라고 말한다.\n"
          ]
        }
      ]
    },
    {
      "cell_type": "markdown",
      "metadata": {
        "id": "rM5rFj7nnx6Z"
      },
      "source": [
        "### 여러 줄이 있는 문자열 생성\n",
        "\n",
        "* 이스케이프 문자(\\\\n)를 이용하여 여러 줄이 있는 문자열 생성 가능"
      ]
    },
    {
      "cell_type": "code",
      "metadata": {
        "id": "XWqwisIai6ot",
        "colab": {
          "base_uri": "https://localhost:8080/"
        },
        "outputId": "0588c0c7-98cb-4e8b-b02a-022e3ad88416"
      },
      "source": [
        "text = \"동해물과 백두산이 마르고 닳도록\\n하느님이 보우하사 우리나라 만세.\\n무궁화 삼천리 화려강산\\n대한사람 대한으로 길이 보전하세.\"\n",
        "print(text)"
      ],
      "execution_count": null,
      "outputs": [
        {
          "output_type": "stream",
          "name": "stdout",
          "text": [
            "동해물과 백두산이 마르고 닳도록\n",
            "하느님이 보우하사 우리나라 만세.\n",
            "무궁화 삼천리 화려강산\n",
            "대한사람 대한으로 길이 보전하세.\n"
          ]
        }
      ]
    },
    {
      "cell_type": "markdown",
      "metadata": {
        "id": "IKC5jvDpoGAT"
      },
      "source": [
        "* 작은 따옴표 3개 또는 큰 따옴표 3개를 이용하여 여러 줄이 있는 문자열 생성"
      ]
    },
    {
      "cell_type": "code",
      "metadata": {
        "id": "pgxgO7QwoDH8",
        "colab": {
          "base_uri": "https://localhost:8080/"
        },
        "outputId": "9bb78284-8f8f-4f6a-e911-b32e4ccf7485"
      },
      "source": [
        "text = \"\"\"동해물과 백두산이 마르고 닳도록\n",
        "하느님이 보우하사 우리나라 만세.\n",
        "무궁화 삼천리 화려강산\n",
        "대한사람 대한으로 길이 보전하세.\"\"\"\n",
        "print(text)"
      ],
      "execution_count": null,
      "outputs": [
        {
          "output_type": "stream",
          "name": "stdout",
          "text": [
            "동해물과 백두산이 마르고 닳도록\n",
            "하느님이 보우하사 우리나라 만세.\n",
            "무궁화 삼천리 화려강산\n",
            "대한사람 대한으로 길이 보전하세.\n"
          ]
        }
      ]
    },
    {
      "cell_type": "markdown",
      "metadata": {
        "id": "PzXHy8FxoW5l"
      },
      "source": [
        "\n",
        "\n",
        "---\n",
        "\n"
      ]
    },
    {
      "cell_type": "markdown",
      "metadata": {
        "id": "d38eO6_roX5E"
      },
      "source": [
        "## 문자열 연산(String Operators)"
      ]
    },
    {
      "cell_type": "markdown",
      "metadata": {
        "id": "SP7ztoZhXRV4"
      },
      "source": [
        "### 문자열 더하기\n",
        "\n",
        "+ 연산자를 사용하여 문자열 연결\n"
      ]
    },
    {
      "cell_type": "code",
      "metadata": {
        "id": "ZuecZ1D2oPnq",
        "colab": {
          "base_uri": "https://localhost:8080/"
        },
        "outputId": "fdf8b588-429c-41d7-d1e5-b4c32d546230"
      },
      "source": [
        "s1 = \"동해물과 \"\n",
        "s2 = \"백두산이\"\n",
        "print(s1 + s2)"
      ],
      "execution_count": null,
      "outputs": [
        {
          "output_type": "stream",
          "name": "stdout",
          "text": [
            "동해물과 백두산이\n"
          ]
        }
      ]
    },
    {
      "cell_type": "markdown",
      "metadata": {
        "id": "0CPt-XMbvjWx"
      },
      "source": [
        "### 문자열 곱하기\n",
        "\n",
        "* \\* 연산자를 사용하여 문자열 반복\n"
      ]
    },
    {
      "cell_type": "code",
      "metadata": {
        "id": "tmpi5CMDolHd",
        "colab": {
          "base_uri": "https://localhost:8080/"
        },
        "outputId": "7c75faf1-a87b-4e06-a9b0-dce87236436b"
      },
      "source": [
        "s = \"String \"\n",
        "print(s * 3)"
      ],
      "execution_count": null,
      "outputs": [
        {
          "output_type": "stream",
          "name": "stdout",
          "text": [
            "String String String \n"
          ]
        }
      ]
    },
    {
      "cell_type": "markdown",
      "metadata": {
        "id": "pjKywfKlvvp5"
      },
      "source": [
        "### 문자열 길이(length)\n",
        "\n",
        "* 문자열 길이를 구하는 `len()` 함수"
      ]
    },
    {
      "cell_type": "code",
      "metadata": {
        "id": "vKff0qQdvtqh",
        "colab": {
          "base_uri": "https://localhost:8080/"
        },
        "outputId": "372ba2d7-f9f1-4aba-bda0-2e149231d174"
      },
      "source": [
        "s = \"String \"\n",
        "print(len(s))\n",
        "print(len(s * 3))"
      ],
      "execution_count": null,
      "outputs": [
        {
          "output_type": "stream",
          "name": "stdout",
          "text": [
            "7\n",
            "21\n"
          ]
        }
      ]
    },
    {
      "cell_type": "markdown",
      "metadata": {
        "id": "QaeVCcgnv_lD"
      },
      "source": [
        "### 문자열 인덱싱(indexing)\n",
        "\n",
        "* 문자열은 리스트처럼 문자 하나하나가 상대적인 주소(offset)를 가짐\n",
        "* 이 주소를 사용해 할당된 값을 가져오는 인덱싱을 사용"
      ]
    },
    {
      "cell_type": "code",
      "metadata": {
        "id": "yuYQOYe3v5iF",
        "colab": {
          "base_uri": "https://localhost:8080/"
        },
        "outputId": "d69fe066-a131-40ba-c27b-3fc56e7debf1"
      },
      "source": [
        "s = \"String\"\n",
        "print(s)\n",
        "print(s[-6])\n",
        "print(s[-5])\n",
        "print(s[-4])\n",
        "print(s[-3])\n",
        "print(s[-2])\n",
        "print(s[-1])"
      ],
      "execution_count": null,
      "outputs": [
        {
          "output_type": "stream",
          "name": "stdout",
          "text": [
            "String\n",
            "S\n",
            "t\n",
            "r\n",
            "i\n",
            "n\n",
            "g\n"
          ]
        }
      ]
    },
    {
      "cell_type": "markdown",
      "metadata": {
        "id": "zcTUuycAw7np"
      },
      "source": [
        "### 문자열 슬라이싱(slicing)\n",
        "\n",
        "* 문자열의 주소를 이용하여 문자열을 조각(부분)을 추출"
      ]
    },
    {
      "cell_type": "code",
      "metadata": {
        "id": "JJUbjwcgw6PG",
        "colab": {
          "base_uri": "https://localhost:8080/"
        },
        "outputId": "df4f904c-50eb-403b-a484-07abaee70aec"
      },
      "source": [
        "s = \"SuanLab - Suan Computer Laboratory\"\n",
        "print(s)\n",
        "print(s[0:7])\n",
        "print(s[:7])\n",
        "print(s[10:])\n",
        "print(s[-10:])\n",
        "print(s[-19:-11])"
      ],
      "execution_count": null,
      "outputs": [
        {
          "output_type": "stream",
          "name": "stdout",
          "text": [
            "SuanLab - Suan Computer Laboratory\n",
            "SuanLab\n",
            "SuanLab\n",
            "Suan Computer Laboratory\n",
            "Laboratory\n",
            "Computer\n"
          ]
        }
      ]
    },
    {
      "cell_type": "markdown",
      "metadata": {
        "id": "-drrAXi3xY3y"
      },
      "source": [
        "\n",
        "\n",
        "---\n",
        "\n"
      ]
    },
    {
      "cell_type": "markdown",
      "metadata": {
        "id": "ZYyzer0TxVll"
      },
      "source": [
        "## 문자열 메소드(String Methods)\n",
        "\n",
        "\n",
        "*   파이썬은 문자열 처리를 아주 쉽게 처리할 수 있는 많은 메소드들을 제공\n",
        "*   문자열을 다루는 주요 메소드들을 표로 정리\n",
        "\n"
      ]
    },
    {
      "cell_type": "markdown",
      "metadata": {
        "id": "5VO3DGMAyxHc"
      },
      "source": [
        "### capitalize() / casefold()\n",
        "\n",
        "* 문자열 \"string\"에 대해 `capitalize()`를 실행하면, 첫 문자가 대문자인 \"String\" 문자열로 변환\n",
        "* 문자열 \"String\"에 대해 `casefold()`를 실행하면, 모든 문자가 소문자인 \"string\" 문자열로 변환"
      ]
    },
    {
      "cell_type": "code",
      "metadata": {
        "id": "cXTaqtYbxNb3",
        "colab": {
          "base_uri": "https://localhost:8080/"
        },
        "outputId": "810a6578-434c-493d-df0c-74b2b7da31b7"
      },
      "source": [
        "s = \"string\"\n",
        "print(s)\n",
        "s = s.capitalize()\n",
        "print(s)\n",
        "s = s.casefold()\n",
        "print(s)"
      ],
      "execution_count": null,
      "outputs": [
        {
          "output_type": "stream",
          "name": "stdout",
          "text": [
            "string\n",
            "String\n",
            "string\n"
          ]
        }
      ]
    },
    {
      "cell_type": "markdown",
      "metadata": {
        "id": "XE4t6o1f0haA"
      },
      "source": [
        "### count()\n",
        "\n",
        "* 문자열 \"string string\"에 포함된 문자 's'의 갯수를 반환하도록 `count()`를 실행\n",
        "* 문자 's'가 총 2개 존재하므로 2를 반환\n",
        "* 부분 문자열 \"str\"이 몇개인지 반환하는 것도 가능하고, 부분 문자열 \"str\"이 총 2개 존재하므로 2를 반환"
      ]
    },
    {
      "cell_type": "code",
      "metadata": {
        "id": "4o34mT_N0UDY",
        "colab": {
          "base_uri": "https://localhost:8080/"
        },
        "outputId": "8ddd3aac-10f7-4769-d809-7e1cf34426df"
      },
      "source": [
        "s = \"string string\"\n",
        "print(s)\n",
        "print(s.count('s'))\n",
        "print(s.count(\"str\"))"
      ],
      "execution_count": null,
      "outputs": [
        {
          "output_type": "stream",
          "name": "stdout",
          "text": [
            "string string\n",
            "2\n",
            "2\n"
          ]
        }
      ]
    },
    {
      "cell_type": "markdown",
      "metadata": {
        "id": "8k0mftqo0yVe"
      },
      "source": [
        "### find() / rfind()\n",
        "\n",
        "* 문자열 \"string string\"에서 문자 's'의 해당 위치를 `find()`를 통해 반환\n",
        "* 문자열 \"string string\"에서 부분 문자열 \"ing\"의 해당 위치를 `find()`를 통해 반환\n",
        "* 문자열 \"string string\"에서 문자 's'를 해당 위치를 `rfind()`를 통해 오른쪽부터 탐색하여 가장 큰 인덱스를 반환\n",
        "* 문자열 \"string string\"에서 부분 문자열 \"ring\"를 해당 위치를 `rfind()`를 통해 오른쪽부터 탐색하여 가장 큰 인덱스를 반환"
      ]
    },
    {
      "cell_type": "code",
      "metadata": {
        "id": "1TDT5Akz0nQn",
        "colab": {
          "base_uri": "https://localhost:8080/"
        },
        "outputId": "0cfedec2-e3e8-4f2f-f410-b8e644fda6b4"
      },
      "source": [
        "s = \"string string\"\n",
        "print(s.find('s'))\n",
        "print(s.find(\"ing\"))\n",
        "print(s.rfind('s'))\n",
        "print(s.rfind(\"ring\"))\n",
        "#print(s.rfind('z'))"
      ],
      "execution_count": null,
      "outputs": [
        {
          "output_type": "stream",
          "name": "stdout",
          "text": [
            "0\n",
            "3\n",
            "7\n",
            "9\n"
          ]
        }
      ]
    },
    {
      "cell_type": "markdown",
      "metadata": {
        "id": "T9p8ylMq1-u7"
      },
      "source": [
        "### index() / rindex()\n",
        "\n",
        "* 문자열 \"string string\"에서 문자 's'의 해당 위치를 `index()`를 통해 반환\n",
        "* 문자열 \"string string\"에서 부분 문자열 \"ing\"의 해당 위치를 `index()`를 통해 반환\n",
        "* 문자열 \"string string\"에서 문자 's'를 해당 위치를 `rindex()`를 통해 오른쪽부터 탐색하여 가장 큰 인덱스를 반환\n",
        "* 문자열 \"string string\"에서 부분 문자열 \"ring\"를 해당 위치를 `rindex()`를 통해 오른쪽부터 탐색하여 가장 큰 인덱스를 반환\n",
        "* 문자열 \"string string\"에서 문자 'z'를 해당 위치를 `rindex()` 함수를 통해 오른쪽부터 탐색하지만 찾을 수 없어서 'ValueError' 발생"
      ]
    },
    {
      "cell_type": "code",
      "metadata": {
        "id": "tzp-p20519Bv",
        "colab": {
          "base_uri": "https://localhost:8080/"
        },
        "outputId": "af361bf5-2894-4b92-c7a6-91f695fd41a3"
      },
      "source": [
        "s = \"string string\"\n",
        "print(s.index('s'))\n",
        "print(s.index(\"ing\"))\n",
        "print(s.rindex('s'))\n",
        "print(s.rindex(\"ring\"))\n",
        "#print(s.rindex('z'))"
      ],
      "execution_count": null,
      "outputs": [
        {
          "output_type": "stream",
          "name": "stdout",
          "text": [
            "0\n",
            "3\n",
            "7\n",
            "9\n"
          ]
        }
      ]
    },
    {
      "cell_type": "markdown",
      "metadata": {
        "id": "prav01jjje_G"
      },
      "source": [
        "### isalnum()\n",
        "\n",
        "* `isalnum()`은 문자열에 알파벳이나 숫자가 1개 이상 있으면 True 반환\n",
        "* 문자열 \"string\"은 알파벳으로 구성 되었으므로 True 반환\n",
        "* 문자열 \"한글\"은 알파벳으로 구성 되어있으므로 True 반환\n",
        "* 문자열 \"!@#\"은 특수기호로 구성 되어있으므로 False 반환\n",
        "* 문자열 \"123\"은 숫자들로 구성 되어있으므로 True 반환"
      ]
    },
    {
      "cell_type": "code",
      "metadata": {
        "id": "6H6gBF44DIke",
        "colab": {
          "base_uri": "https://localhost:8080/"
        },
        "outputId": "b7fa29bd-c249-4725-8da9-efca1c6178b8"
      },
      "source": [
        "print(\"string\".isalnum())\n",
        "print(\"한글\".isalnum())\n",
        "print(\"!@#\".isalnum())\n",
        "print(\"123\".isalnum())"
      ],
      "execution_count": null,
      "outputs": [
        {
          "output_type": "stream",
          "name": "stdout",
          "text": [
            "True\n",
            "True\n",
            "False\n",
            "True\n"
          ]
        }
      ]
    },
    {
      "cell_type": "markdown",
      "metadata": {
        "id": "eHIt6rNFYCGE"
      },
      "source": [
        "### isalpha()\n",
        "\n",
        "* `isalpha()`는 문자열에 알파벳이 1개 이상 있으면 True 반환\n",
        "* 문자열 \"string\"은 알파벳으로 구성 되었으므로 True 반환\n",
        "* 문자열 \"한글\"은 알파벳으로 구성 되어있으므로 True 반환\n",
        "* 문자열 \"!@#\"은 특수기호로 구성 되어있으므로 False 반환\n",
        "* 문자열 \"123\"은 숫자들로 구성 되어있으므로 Flase 반환"
      ]
    },
    {
      "cell_type": "code",
      "metadata": {
        "id": "_dFo8ynlmd_B",
        "colab": {
          "base_uri": "https://localhost:8080/"
        },
        "outputId": "a0c5cf46-b2f2-4a66-d1c5-ae56cfbac198"
      },
      "source": [
        "print(\"string\".isalpha())\n",
        "print(\"한글\".isalpha())\n",
        "print(\"!@#\".isalpha())\n",
        "print(\"123\".isalpha())"
      ],
      "execution_count": 4,
      "outputs": [
        {
          "output_type": "stream",
          "name": "stdout",
          "text": [
            "True\n",
            "True\n",
            "False\n",
            "False\n"
          ]
        }
      ]
    },
    {
      "cell_type": "markdown",
      "metadata": {
        "id": "_WGNBgfilCZg"
      },
      "source": [
        "### isdecimal()\n",
        "\n",
        "* `isdecimal()`는 문자열의 모든 문자가 10진수 문자이면 True 반환\n",
        "* 문자열 \"123\"은 모두 10진수 문자열이므로 True 반환\n",
        "* 문자열 \"1.23\"은 실수형 문자열이므로 False 반환"
      ]
    },
    {
      "cell_type": "code",
      "metadata": {
        "id": "E2kVKYNHjtlN",
        "colab": {
          "base_uri": "https://localhost:8080/"
        },
        "outputId": "3b2e17bb-76d3-42a8-886c-7c3557de2e8a"
      },
      "source": [
        "print(\"123\".isdecimal())\n",
        "print(\"1.23\".isdecimal())"
      ],
      "execution_count": 6,
      "outputs": [
        {
          "output_type": "stream",
          "name": "stdout",
          "text": [
            "True\n",
            "False\n"
          ]
        }
      ]
    },
    {
      "cell_type": "markdown",
      "metadata": {
        "id": "J0pJ-8T_Yhlx"
      },
      "source": [
        "### isdigit()\n",
        "\n",
        "* `isdigit()`는 문자열의 모든 문자가 숫자일 때 True 반환\n",
        "* 문자열 \"123\"은 모든 문자가 숫자에 해당하므로 True 반환\n",
        "* 문자열 \"1.23\"은 문자 중 숫자에 해당안되는 . 이 존재하여 False"
      ]
    },
    {
      "cell_type": "code",
      "metadata": {
        "id": "oOsCWfMhmjHo",
        "colab": {
          "base_uri": "https://localhost:8080/"
        },
        "outputId": "622895fd-f024-4066-f462-4f37665edb9f"
      },
      "source": [
        "print(\"123\".isdigit())\n",
        "print(\"1.23\".isdigit())"
      ],
      "execution_count": 7,
      "outputs": [
        {
          "output_type": "stream",
          "name": "stdout",
          "text": [
            "True\n",
            "False\n"
          ]
        }
      ]
    },
    {
      "cell_type": "markdown",
      "metadata": {
        "id": "2jPib-Z8ZAlj"
      },
      "source": [
        "### isnumeric()\n",
        "\n",
        "* `isnumeric()`는 문자열의 모든 문자가 수치형일 때 True 반환\n",
        "* 문자열 \"123\"은 모든 문자가 숫자에 해당하므로 True 반환\n",
        "* 문자열 \"1.23\"은 문자 중 수치형에 해당안되는 . 이 존재하여 False"
      ]
    },
    {
      "cell_type": "code",
      "metadata": {
        "id": "J5EsHyjfpidQ",
        "colab": {
          "base_uri": "https://localhost:8080/"
        },
        "outputId": "3df60dde-cebc-451a-caf0-c0cd3a051590"
      },
      "source": [
        "print(\"123\".isnumeric())\n",
        "print(\"1.23\".isnumeric())"
      ],
      "execution_count": 8,
      "outputs": [
        {
          "output_type": "stream",
          "name": "stdout",
          "text": [
            "True\n",
            "False\n"
          ]
        }
      ]
    },
    {
      "cell_type": "markdown",
      "metadata": {
        "id": "krM9QrrEp5TB"
      },
      "source": [
        "### isidentifier()\n",
        "\n",
        "* `isidentifier()`는 문자열이 파이썬에서 사용하는 식별자인 경우 True 반환\n",
        "* 문자열 \"123\"은 식별자로 사용되지 않는 문자열이라서 False 반환\n",
        "* 문자열 \"True\"는 식별자로 사용되기 때문에 True 반환\n",
        "* 문자열 \"print\"는 식별자로 사용되기 때문에 True 반환"
      ]
    },
    {
      "cell_type": "code",
      "metadata": {
        "id": "ir5WknFUpO7r",
        "colab": {
          "base_uri": "https://localhost:8080/"
        },
        "outputId": "1a2d32e5-defa-40b8-bd81-4bdf59210967"
      },
      "source": [
        "print(\"123\".isidentifier())\n",
        "print(\"True\".isidentifier())\n",
        "print(\"print\".isidentifier())"
      ],
      "execution_count": 10,
      "outputs": [
        {
          "output_type": "stream",
          "name": "stdout",
          "text": [
            "False\n",
            "True\n",
            "True\n"
          ]
        }
      ]
    },
    {
      "cell_type": "markdown",
      "metadata": {
        "id": "jHm6aRyAlypa"
      },
      "source": [
        "### isspace()\n",
        "\n",
        "* 문자열 \" \"은 문자열 내에 공백 문자가 있어서 True 반환\n",
        "* 문자열 \" 1 \"은 문자열 내에 공백 아닌 문자가 있어서 False 반환"
      ]
    },
    {
      "cell_type": "code",
      "metadata": {
        "id": "x0Nmi2NtqQpI",
        "colab": {
          "base_uri": "https://localhost:8080/"
        },
        "outputId": "fd6137a1-462c-4db0-b58e-0652dedad7c6"
      },
      "source": [
        "print(\" \".isspace())\n",
        "print(\" 1 \".isspace())"
      ],
      "execution_count": 12,
      "outputs": [
        {
          "output_type": "stream",
          "name": "stdout",
          "text": [
            "True\n",
            "False\n"
          ]
        }
      ]
    },
    {
      "cell_type": "markdown",
      "metadata": {
        "id": "SG3Odc9fIHpT"
      },
      "source": [
        "### istitle()\n",
        "\n",
        "* 문자열 \"String\"은 문자열 내에 제목과 같이 첫 글자가 대문자여서 True 반환\n",
        "* 문자열 \"STRING\"은 모든 문자가 대문자이기 때문에 False 반환"
      ]
    },
    {
      "cell_type": "code",
      "metadata": {
        "id": "c7eht5HErgrr",
        "colab": {
          "base_uri": "https://localhost:8080/"
        },
        "outputId": "cabf2aa9-21eb-4c19-a67b-d01951250f9f"
      },
      "source": [
        "print(\"String\".istitle())\n",
        "print(\"STRING\".istitle())"
      ],
      "execution_count": 14,
      "outputs": [
        {
          "output_type": "stream",
          "name": "stdout",
          "text": [
            "True\n",
            "False\n"
          ]
        }
      ]
    },
    {
      "cell_type": "markdown",
      "metadata": {
        "id": "ctZKMIrHI8-A"
      },
      "source": [
        "### islower()\n",
        "\n",
        "* 문자열 \"string\"은 모든 문자가 소문자여서 True 반환\n",
        "* 문자열 \"String\"은 첫 문자가 대문자여서 False 반환"
      ]
    },
    {
      "cell_type": "code",
      "metadata": {
        "id": "xznSyZT9lzp5",
        "colab": {
          "base_uri": "https://localhost:8080/"
        },
        "outputId": "f84c643d-53c7-44ce-b7fc-471db2307d7c"
      },
      "source": [
        "print(\"string\".islower())\n",
        "print(\"String\".islower())"
      ],
      "execution_count": 16,
      "outputs": [
        {
          "output_type": "stream",
          "name": "stdout",
          "text": [
            "True\n",
            "False\n"
          ]
        }
      ]
    },
    {
      "cell_type": "markdown",
      "metadata": {
        "id": "KVnECEUXI_MN"
      },
      "source": [
        "### isupper() 함수\n",
        "\n",
        "* 문자열 \"STRING\"은 모든 문자가 대문자여서 True 반환\n",
        "* 문자열 \"String\"은 첫 문자만 대문자여서 False 반환"
      ]
    },
    {
      "cell_type": "code",
      "metadata": {
        "id": "ZAmXy2lCqIbi",
        "colab": {
          "base_uri": "https://localhost:8080/"
        },
        "outputId": "adea5e79-e4e3-4dc1-cb09-5d2432a34fae"
      },
      "source": [
        "print(\"STRING\".isupper())\n",
        "print(\"String\".isupper())"
      ],
      "execution_count": 18,
      "outputs": [
        {
          "output_type": "stream",
          "name": "stdout",
          "text": [
            "True\n",
            "False\n"
          ]
        }
      ]
    },
    {
      "cell_type": "markdown",
      "metadata": {
        "id": "mGdbqGsSr8Ee"
      },
      "source": [
        "### join()\n",
        "\n",
        "* 문자열 \"String\"에 대해서 `join()`으로 공백 문자 ' '를 문자 사이마다 추가한 문자열 \"S t r i n g\"을 반환\n",
        "* 문자열 \"String\"에 대해서 `join()` 으로 공백 문자 '_'를 문자 사이마다 추가한 문자열 \"S_t_r_i_n_g\"을 반환\n",
        "* 문자열 \"String\"에 대해서 `join()` 으로 공백 문자 '|'를 문자 사이마다 추가한 문자열 \"S|t|r|i|n|g\"을 반환"
      ]
    },
    {
      "cell_type": "code",
      "metadata": {
        "id": "A8tTe2l3rwLw",
        "colab": {
          "base_uri": "https://localhost:8080/"
        },
        "outputId": "97a4d206-e847-4ff9-9ac3-7b6f440c5d9d"
      },
      "source": [
        "s = \"String\"\n",
        "print(' '.join(s))\n",
        "print('_'.join(s))\n",
        "print('|'.join(s))"
      ],
      "execution_count": 20,
      "outputs": [
        {
          "output_type": "stream",
          "name": "stdout",
          "text": [
            "S t r i n g\n",
            "S_t_r_i_n_g\n",
            "S|t|r|i|n|g\n"
          ]
        }
      ]
    },
    {
      "cell_type": "markdown",
      "metadata": {
        "id": "zDmq0ExIsdtu"
      },
      "source": [
        "### center() / ljust() / rjust()\n",
        "\n",
        "* 문자열 \"String\"에 대해서 `center()`를 사용하여 너비 10에 해당하는 문자열 길이에 가운데 정렬한 문자열 '  String  '로 변환\n",
        "* 문자열 \"String\"에 대해서 `ljust()`를 사용하여 너비 10에 해당하는 문자열 길이에 왼쪽 정렬한 문자열 'String    '로 변환\n",
        "* 문자열 \"String\"에 대해서 `rjust()`를 사용하여 너비 10에 해당하는 문자열 길이에 오른쪽 정렬한 문자열 '    String'로 변환"
      ]
    },
    {
      "cell_type": "code",
      "metadata": {
        "id": "sFA02kX3sf2q",
        "colab": {
          "base_uri": "https://localhost:8080/"
        },
        "outputId": "5c6bfc2c-9c52-4a17-f603-e139a98b8a0d"
      },
      "source": [
        "print(\"'\" + \"String\".center(10) + \"'\")\n",
        "print(\"'\" + \"String\".ljust(10) + \"'\")\n",
        "print(\"'\" + \"String\".rjust(10) + \"'\")"
      ],
      "execution_count": 22,
      "outputs": [
        {
          "output_type": "stream",
          "name": "stdout",
          "text": [
            "'  String  '\n",
            "'String    '\n",
            "'    String'\n"
          ]
        }
      ]
    },
    {
      "cell_type": "markdown",
      "metadata": {
        "id": "-iP2QrFn0kWZ"
      },
      "source": [
        "### lower() / upper() / title() / swapcase()\n",
        "\n",
        "* 문자열 \"String\"을 `lower()`를 이용하여 모든 문자가 소문자로 변환된 \"string\" 반환\n",
        "* 문자열 \"String\"을 `upper()`를 이용하여 모든 문자가 대문자로 변환된 \"STRING\" 반환\n",
        "* 문자열 \"string\"을 `title()`를 이용하여 첫 문자가 대문자로 변환된 \"String\" 반환\n",
        "* 문자열 \"String\"을 `swapcase()`를 이용하여 대문자는 소문자로 변환되고 소문자는 대문자로 변환된 \"sTRING\" 반환\n"
      ]
    },
    {
      "cell_type": "code",
      "metadata": {
        "id": "K8JmvhjC0j-e",
        "colab": {
          "base_uri": "https://localhost:8080/"
        },
        "outputId": "d3ac4c3e-ac7e-4997-b3c4-f18bf84b57bb"
      },
      "source": [
        "print(\"String\".lower())\n",
        "print(\"String\".upper())\n",
        "print(\"string\".title())\n",
        "print(\"String\".swapcase())"
      ],
      "execution_count": 23,
      "outputs": [
        {
          "output_type": "stream",
          "name": "stdout",
          "text": [
            "string\n",
            "STRING\n",
            "String\n",
            "sTRING\n"
          ]
        }
      ]
    },
    {
      "cell_type": "markdown",
      "metadata": {
        "id": "oyk35mDo1d2M"
      },
      "source": [
        "### strip() / lstrip() / rstrip()\n",
        "\n",
        "* 양쪽 공백이 포함된 문자열 \"  String  \"을 `strip()`를 통해 공백 제거\n",
        "* 양쪽 공백이 포함된 문자열 \"  String  \"을 `lstrip()`를 통해 왼쪽 공백 제거\n",
        "* 양쪽 공백이 포함된 문자열 \"  String  \"을 `rstrip()`를 통해 오른쪽 공백 제거"
      ]
    },
    {
      "cell_type": "code",
      "metadata": {
        "id": "Y8D90szl1YOa",
        "colab": {
          "base_uri": "https://localhost:8080/"
        },
        "outputId": "91367893-7050-42c0-b2a2-466e1485a5a1"
      },
      "source": [
        "print(\"  String  \".strip())\n",
        "print(\"  String  \".lstrip())\n",
        "print(\"  String  \".rstrip())"
      ],
      "execution_count": 24,
      "outputs": [
        {
          "output_type": "stream",
          "name": "stdout",
          "text": [
            "String\n",
            "String  \n",
            "  String\n"
          ]
        }
      ]
    },
    {
      "cell_type": "markdown",
      "metadata": {
        "id": "zPLZHaXu7OYj"
      },
      "source": [
        "### partition() / rpartition()\n",
        "\n",
        "* 문자열 \"String\"을 `partition()`를 이용하여 문자 't' 기준으로 분할\n",
        "* 문자열 \"String String\"을 `rpartition()`를 이용하여 마지막 문자 'S'를 기준으로 분할"
      ]
    },
    {
      "cell_type": "code",
      "metadata": {
        "id": "fhmrvPHl4I6Q",
        "colab": {
          "base_uri": "https://localhost:8080/"
        },
        "outputId": "71418cc2-7bf8-449c-de04-dc74f4842b36"
      },
      "source": [
        "print(\"String\".partition('t'))\n",
        "print(\"String String\".rpartition('S'))"
      ],
      "execution_count": 26,
      "outputs": [
        {
          "output_type": "stream",
          "name": "stdout",
          "text": [
            "('S', 't', 'ring')\n",
            "('String ', 'S', 'tring')\n"
          ]
        }
      ]
    },
    {
      "cell_type": "markdown",
      "metadata": {
        "id": "8YF_Rheq7fe6"
      },
      "source": [
        "### replace()\n",
        "\n",
        "* 문자열 \"String\"을 `replace()`를 이용해 문자열 \"Str\"을 문자 'R'로 교체"
      ]
    },
    {
      "cell_type": "code",
      "metadata": {
        "id": "nNuELc1q7Wwf",
        "colab": {
          "base_uri": "https://localhost:8080/"
        },
        "outputId": "1752616f-c38f-47a1-a03c-d4b403a37a9b"
      },
      "source": [
        "print(\"String\".replace(\"Str\", \"R\"))"
      ],
      "execution_count": 27,
      "outputs": [
        {
          "output_type": "stream",
          "name": "stdout",
          "text": [
            "Ring\n"
          ]
        }
      ]
    },
    {
      "cell_type": "markdown",
      "metadata": {
        "id": "rIP8GXbM7p3w"
      },
      "source": [
        "### split() / rsplit() / splitlines()\n",
        "\n",
        "* 문자열 \"1 2 3\"을 `split()`의 기본 구분자를 이용하여 '1', '2', '3' 으로 구분\n",
        "* 문자열 \"1_2_3\"을 `split()`으로 구분자 '_'를 이용하여 '1', '2', '3' 으로 구분\n",
        "* 문자열 \"1 2 3\"을 `rsplit()`으로 구분자 '_'를 이용하여 오른쪽부터 1번만 구분하여 '1_2', '3' 으로 구분\n",
        "* 문자열 \"123\\n123\\n123\\n\"을 `splitlines()` 함수를 이용하여 라인 단위로 구분하여 '123, '123, '123 반환"
      ]
    },
    {
      "cell_type": "code",
      "metadata": {
        "id": "Ns3ZMQJ17mv7",
        "colab": {
          "base_uri": "https://localhost:8080/"
        },
        "outputId": "14b27d11-794a-448d-cb6d-b81e7cf16e19"
      },
      "source": [
        "print(\"1 2 3\".split())\n",
        "print(\"1_2_3\".split('_'))\n",
        "print(\"1_2_3\".rsplit('_', 1))\n",
        "print(\"123\\n123\\n123\\n\".splitlines())"
      ],
      "execution_count": 31,
      "outputs": [
        {
          "output_type": "stream",
          "name": "stdout",
          "text": [
            "['1', '2', '3']\n",
            "['1', '2', '3']\n",
            "['1_2', '3']\n",
            "['123', '123', '123']\n"
          ]
        }
      ]
    },
    {
      "cell_type": "markdown",
      "metadata": {
        "id": "tx8dAOPm8DTv"
      },
      "source": [
        "### startswith() / endswith()\n",
        "\n",
        "* 문자열 \"String\"에서 시작 문자가 'S'인지 `startswith()`를 통해 확인\n",
        "* 문자열 \"String\"에서 마지막 문자가 'g'인지 `endswith()`를 통해 확인"
      ]
    },
    {
      "cell_type": "code",
      "metadata": {
        "id": "dNB3Da_x7587",
        "colab": {
          "base_uri": "https://localhost:8080/"
        },
        "outputId": "6f1174d6-0191-4209-bf11-e7132b5887d2"
      },
      "source": [
        "print(\"String\".startswith('S'))\n",
        "print(\"string\".endswith('g'))"
      ],
      "execution_count": 35,
      "outputs": [
        {
          "output_type": "stream",
          "name": "stdout",
          "text": [
            "True\n",
            "True\n"
          ]
        }
      ]
    },
    {
      "cell_type": "markdown",
      "metadata": {
        "id": "OZatwJSe8Svd"
      },
      "source": [
        "### zfill()\n",
        "\n",
        "* 문자열 \"123\"에서 너비 8만큼으로 늘리고 비어있는 부분에 '0'이 채워진 문자열 \"00000123\" 반환"
      ]
    },
    {
      "cell_type": "code",
      "metadata": {
        "id": "rWqlvXJV8MJF",
        "colab": {
          "base_uri": "https://localhost:8080/"
        },
        "outputId": "044a6ad3-ea85-44ac-96db-2165d4797bc0"
      },
      "source": [
        "print(\"123\".zfill(8))"
      ],
      "execution_count": 36,
      "outputs": [
        {
          "output_type": "stream",
          "name": "stdout",
          "text": [
            "00000123\n"
          ]
        }
      ]
    },
    {
      "cell_type": "markdown",
      "metadata": {
        "id": "yjsh7OcA8fIu"
      },
      "source": [
        "\n",
        "\n",
        "---\n",
        "\n"
      ]
    },
    {
      "cell_type": "markdown",
      "metadata": {
        "id": "Og91a1bd8gd-"
      },
      "source": [
        "## 문자열 서식(String Format)\n"
      ]
    },
    {
      "cell_type": "markdown",
      "metadata": {
        "id": "U7QLYGjk8qbO"
      },
      "source": [
        "### 문자열 포맷팅(String Formatting)\n",
        "\n",
        "* 문자열 내에서 서식에 맞추어 특정 값을 삽입 또는 변경\n",
        "* 기호 % 뒤에 있는 값이 문자열 내의 서식에 순서대로 매핑"
      ]
    },
    {
      "cell_type": "code",
      "metadata": {
        "id": "_z3A1Rmu8Wex",
        "colab": {
          "base_uri": "https://localhost:8080/"
        },
        "outputId": "fade1aaf-1807-4eb6-adef-1d2d9b3f744a"
      },
      "source": [
        "print(\"나는 사과가 %d개 있다.\" % 2)\n",
        "print(\"나는 사과가 %s개 있다.\" % \"두\")\n",
        "print(\"나는 %s가 %d개 있다.\" % (\"딸기\", 2))\n",
        "\n",
        "print(\"나는 이번 시험에 %d%% 합격한다.\" % 100)"
      ],
      "execution_count": 79,
      "outputs": [
        {
          "output_type": "stream",
          "name": "stdout",
          "text": [
            "나는 사과가 2개 있다.\n",
            "나는 사과가 두개 있다.\n",
            "나는 딸기가 2개 있다.\n",
            "나는 이번 시험에 100% 합격한다.\n"
          ]
        }
      ]
    },
    {
      "cell_type": "markdown",
      "metadata": {
        "id": "PP32b9L3-eVL"
      },
      "source": [
        "### 정렬, 공백, 소수점 포맷\n",
        "\n",
        "* 포맷 문자 앞에 숫자는 길이를 의미\n",
        "* -는 왼쪽 정렬을 의미\n",
        "* 소수점 ‘.’ 뒤에 숫자는 소숫점 이하 개수를 의미"
      ]
    },
    {
      "cell_type": "code",
      "metadata": {
        "id": "uG9qhf2L9K_A",
        "colab": {
          "base_uri": "https://localhost:8080/"
        },
        "outputId": "891a54ca-9a03-42d8-db11-c2eba38fabe1"
      },
      "source": [
        "print(\"%8s\" % \"Hello\")\n",
        "print(\"%-8sPython\" % \"Hello\")\n",
        "print(\"%0.2f\" % 3.1415926535)\n",
        "print(\"%8.2f\" % 3.1415926535)\n",
        "print(\"%-8.2f\" % 3.1415926535)"
      ],
      "execution_count": 52,
      "outputs": [
        {
          "output_type": "stream",
          "name": "stdout",
          "text": [
            "   Hello\n",
            "Hello   Python\n",
            "3.14\n",
            "    3.14\n",
            "3.14    \n"
          ]
        }
      ]
    },
    {
      "cell_type": "markdown",
      "metadata": {
        "id": "SrIx3mkM_C8G"
      },
      "source": [
        "### 문자열 format 메소드\n",
        "\n",
        "* 문자열 `format()`의 인덱스를 이용한 고급 포맷팅\n",
        "* 인덱스 번호에 따라 `format()` 함수의 각 값들이 매핑"
      ]
    },
    {
      "cell_type": "code",
      "metadata": {
        "id": "uf469Z6l-6E0",
        "colab": {
          "base_uri": "https://localhost:8080/"
        },
        "outputId": "f8e71574-4d70-43d8-d9e4-b8b5b9235b28"
      },
      "source": [
        "print(\"나는 사과가 {0}개 있다.\".format(2))\n",
        "print(\"나는 사과가 {0}개 있다.\".format(\"두\"))\n",
        "print(\"나는 {0}가 {1}개 있다.\".format(\"딸기\", 2))"
      ],
      "execution_count": 56,
      "outputs": [
        {
          "output_type": "stream",
          "name": "stdout",
          "text": [
            "나는 사과가 2개 있다.\n",
            "나는 사과가 두개 있다.\n",
            "나는 딸기가 2개 있다.\n"
          ]
        }
      ]
    },
    {
      "cell_type": "markdown",
      "metadata": {
        "id": "0pTK7FHW_jIn"
      },
      "source": [
        "* 문자열 `format()` 메소드의 인덱스와 변수 이름을 이용한 포맷팅\n",
        "* 변수 이름 s와 n을 지정하여 \"사과\"와 숫자 2를 매핑"
      ]
    },
    {
      "cell_type": "code",
      "metadata": {
        "id": "Bwx0XnkE_Yvn",
        "colab": {
          "base_uri": "https://localhost:8080/"
        },
        "outputId": "3f798cab-6438-4225-aa27-3ed5add1346e"
      },
      "source": [
        "print(\"나는 사과가 {n}개 있다.\".format(n=2))\n",
        "print(\"나는 {s}가 {n}개 있다.\".format(s=\"딸기\", n=2))"
      ],
      "execution_count": 57,
      "outputs": [
        {
          "output_type": "stream",
          "name": "stdout",
          "text": [
            "나는 사과가 2개 있다.\n",
            "나는 딸기가 2개 있다.\n"
          ]
        }
      ]
    },
    {
      "cell_type": "markdown",
      "metadata": {
        "id": "0yErNkKPAA2F"
      },
      "source": [
        "* 문자열 `format()` 함수의 정렬, 공백, 소수점\n"
      ]
    },
    {
      "cell_type": "code",
      "metadata": {
        "id": "Nfi9kAeD_z3p",
        "colab": {
          "base_uri": "https://localhost:8080/"
        },
        "outputId": "3fd77ede-6bac-4a44-f667-72997bb70166"
      },
      "source": [
        "print(\"{0:8}\".format(\"Hello\"))\n",
        "print(\"{0:<8}\".format(\"Hello\"))\n",
        "print(\"{0:>8}\".format(\"Hello\"))\n",
        "print(\"{0:^8}\".format(\"Hello\"))\n",
        "print(\"{0:~^8}\".format(\"Hello\"))\n",
        "print(\"{0:-^8}\".format(\"Hello\"))\n",
        "print(\"{0:0.2f}\".format(3.1415926535))\n",
        "print(\"{0:8.4f}\".format(3.1415926535))\n",
        "print(\"{{중괄호}}\".format())"
      ],
      "execution_count": 67,
      "outputs": [
        {
          "output_type": "stream",
          "name": "stdout",
          "text": [
            "Hello   \n",
            "Hello   \n",
            "   Hello\n",
            " Hello  \n",
            "~Hello~~\n",
            "-Hello--\n",
            "3.14\n",
            "  3.1416\n",
            "{중괄호}\n"
          ]
        }
      ]
    },
    {
      "cell_type": "markdown",
      "metadata": {
        "id": "1GS_wR86BmtE"
      },
      "source": [
        "### f 문자열 포맷팅\n",
        "\n",
        "* 문자열 포맷팅을 위해 새롭게 나온 기능으로 문자열 앞에 f를 붙여서 구분\n",
        "* 변수 s와 n에 대해서 문자열에 포함된 이름으로 매핑하여 사용 가능"
      ]
    },
    {
      "cell_type": "code",
      "metadata": {
        "id": "3ffhQ807BYLf",
        "colab": {
          "base_uri": "https://localhost:8080/"
        },
        "outputId": "d616acea-c76f-4195-ae2b-333c2c4897b6"
      },
      "source": [
        "s = \"사과\"\n",
        "n = 2\n",
        "print(f\"나는 사과가 {n}개 있다.\")\n",
        "print(f\"나는 {s}가 {n}개 있다.\")"
      ],
      "execution_count": 68,
      "outputs": [
        {
          "output_type": "stream",
          "name": "stdout",
          "text": [
            "나는 사과가 2개 있다.\n",
            "나는 사과가 2개 있다.\n"
          ]
        }
      ]
    },
    {
      "cell_type": "markdown",
      "metadata": {
        "id": "9zQ6zYkRR_dt"
      },
      "source": [
        "* 기존의 문자열 포맷을 문자열 다음 기호 : 뒤에 표현하여 그대로 사용 가능"
      ]
    },
    {
      "cell_type": "code",
      "metadata": {
        "id": "UOYcnlERBxhy",
        "colab": {
          "base_uri": "https://localhost:8080/"
        },
        "outputId": "6cd674eb-5582-4a4e-a701-319e5a6313ec"
      },
      "source": [
        "print(f'{\"Hello\":8}')\n",
        "print(f'{\"Hello\":<8}')\n",
        "print(f'{\"Hello\":>8}')\n",
        "print(f'{\"Hello\":^8}')\n",
        "print(f'{\"Hello\":~^8}')\n",
        "print(f'{\"Hello\":-^8}')\n",
        "print(f\"{3.1415926535:0.2f}\")\n",
        "print(f\"{3.1415926535:8.4f}\")\n",
        "print(f\"{{중괄호}}\")"
      ],
      "execution_count": 70,
      "outputs": [
        {
          "output_type": "stream",
          "name": "stdout",
          "text": [
            "Hello   \n",
            "Hello   \n",
            "   Hello\n",
            " Hello  \n",
            "~Hello~~\n",
            "-Hello--\n",
            "3.14\n",
            "  3.1416\n",
            "{중괄호}\n"
          ]
        }
      ]
    }
  ]
}